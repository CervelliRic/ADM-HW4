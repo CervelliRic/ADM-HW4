{
 "cells": [
  {
   "cell_type": "code",
   "execution_count": 1,
   "metadata": {},
   "outputs": [],
   "source": [
    "import numpy as np\n",
    "import pandas as pd\n",
    "from urllib.request import urlopen\n",
    "from bs4 import BeautifulSoup as bs"
   ]
  },
  {
   "cell_type": "code",
   "execution_count": 2,
   "metadata": {},
   "outputs": [],
   "source": [
    "def getHTMLContent(link):\n",
    "    html = urlopen(link)\n",
    "    soup = bs(html, 'html.parser')\n",
    "    return soup"
   ]
  },
  {
   "cell_type": "code",
   "execution_count": 3,
   "metadata": {},
   "outputs": [],
   "source": [
    "soup = getHTMLContent('https://www.immobiliare.it/vendita-case/bologna-provincia/')"
   ]
  },
  {
   "cell_type": "code",
   "execution_count": 5,
   "metadata": {},
   "outputs": [],
   "source": [
    "linklist = []\n",
    "for link in soup.find_all('a'):\n",
    "    linkURL = link.get('href')\n",
    "    if linkURL is not None:\n",
    "        if link.get('href').startswith('https://www.immobiliare.it/7047'):\n",
    "            linklist.append(link.get('href'))"
   ]
  },
  {
   "cell_type": "code",
   "execution_count": 6,
   "metadata": {},
   "outputs": [
    {
     "data": {
      "text/plain": [
       "['https://www.immobiliare.it/70476914-Vendita-Appartamento-via-Carlo-Cignani-Bologna.html',\n",
       " 'https://www.immobiliare.it/70478990-Vendita-Quadrilocale-via-delle-Tovaglie-Bologna.html',\n",
       " 'https://www.immobiliare.it/70478908-Vendita-Trilocale-via-Delle-Fonti-Bologna.html',\n",
       " 'https://www.immobiliare.it/70478888-Vendita-Monolocale-via-Senzanome-Bologna.html',\n",
       " 'https://www.immobiliare.it/70479002-Vendita-Appartamento-via-Malvezza-Bologna.html',\n",
       " 'https://www.immobiliare.it/70478952-Vendita-Bilocale-via-Sant-Apollinare-1146-Valsamoggia.html',\n",
       " 'https://www.immobiliare.it/70478906-Vendita-Monolocale-via-Saliceto-Bologna.html',\n",
       " 'https://www.immobiliare.it/70478996-Vendita-Bilocale-via-Ferrarese-Bologna.html',\n",
       " 'https://www.immobiliare.it/70478988-Vendita-Appartamento-viale-Aldini-Bologna.html',\n",
       " 'https://www.immobiliare.it/70478904-Vendita-Bilocale-via-XXI-Aprile-Bologna.html',\n",
       " 'https://www.immobiliare.it/70478986-Vendita-Quadrilocale-via-Santo-Stefano-Bologna.html',\n",
       " 'https://www.immobiliare.it/70475132-Vendita-Bilocale-via-Roberto-Koch-12-Bologna.html',\n",
       " 'https://www.immobiliare.it/70470260-Vendita-Appartamento-via-Bergonzoni-15-Argelato.html',\n",
       " 'https://www.immobiliare.it/70472990-Vendita-Quadrilocale-via-Toscana-Bologna.html']"
      ]
     },
     "execution_count": 6,
     "metadata": {},
     "output_type": "execute_result"
    }
   ],
   "source": [
    "linklist"
   ]
  },
  {
   "cell_type": "markdown",
   "metadata": {},
   "source": [
    "# Make a dataset of information"
   ]
  },
  {
   "cell_type": "code",
   "execution_count": 151,
   "metadata": {},
   "outputs": [],
   "source": [
    "def get_info(number):\n",
    "    index = (number - 1)*25  + 1\n",
    "    col_names=['price','locali','superficie','bagni','piano']\n",
    "    df = pd.DataFrame(columns = col_names)\n",
    "    \n",
    "    soup = getHTMLContent('https://www.immobiliare.it/vendita-case/bologna-provincia/?pag=' + str(number))\n",
    "    read_content = False\n",
    "\n",
    "    for ul in soup.find_all('ul'):\n",
    "        if (ul.get('class') == [\"annunci-list\"] and not read_content):\n",
    "            for div in ul.find_all('div'):\n",
    "                if (div.get('class')==['listing-item_body--content']):\n",
    "\n",
    "                    d = {}\n",
    "\n",
    "                    for li in div.find_all('li'): #Now, we are in each rooms\n",
    "\n",
    "                        if '€' in li.get_text().split():                         \n",
    "                            a = li.get_text().split()[-1]\n",
    "                            try:\n",
    "                                a = flaot(a)\n",
    "                            \n",
    "                            except NameError:\n",
    "                                try:\n",
    "                                    a = float(a.split('(')[0])\n",
    "                                except ValueError :\n",
    "                                    a = a.split('.')\n",
    "                                    a.pop()\n",
    "                                    a = float(''.join(a))\n",
    "\n",
    "                            d['price'] = a\n",
    "                            \n",
    "\n",
    "                        for div2 in li.find_all('div'):\n",
    "\n",
    "                            if div2.get_text() == 'locali': # check 'locali'\n",
    "                                d['locali'] = float(li.get_text()[0])\n",
    "\n",
    "                            if div2.get_text() == 'superficie': # check 'superficie'\n",
    "                                try:\n",
    "                                    d['superficie'] = float(li.get_text().split()[0])\n",
    "                                except:\n",
    "                                    d['superficie'] = float('nan')\n",
    "                                \n",
    "\n",
    "                            if div2.get_text() == 'bagni': # check 'bagni'\n",
    "                                d['bagni'] = float(li.get_text()[0])\n",
    "\n",
    "                            if div2.get_text() == 'piano': # check 'piano'\n",
    "                                try:\n",
    "                                    d['piano'] = float(li.get_text()[0])\n",
    "                                except:\n",
    "                                    \n",
    "                                    pass\n",
    "                                \n",
    "# Must implement for A,S,R,T piano!!!!!!!!!!!!!!!!!!!!!!!!!!!!!!!!!!!!!!!!!!!!!!!!!!!!!!!!!!!!!!!!!!!!!!!!!!!!!!!\n",
    "# T = 1, S = top, A = , R = \n",
    "                                \n",
    "                                \n",
    "                    d = pd.DataFrame(d, index=[index])\n",
    "                    index += 1\n",
    "                    df = df.append(d, sort=False)\n",
    "                    \n",
    "    return df"
   ]
  },
  {
   "cell_type": "code",
   "execution_count": 152,
   "metadata": {},
   "outputs": [
    {
     "name": "stdout",
     "output_type": "stream",
     "text": [
      "1078.590\n"
     ]
    }
   ],
   "source": [
    "col_names=['price','locali','superficie','bagni','piano']\n",
    "ds_info = pd.DataFrame(columns=col_names)\n",
    "\n",
    "start = time.time()\n",
    "\n",
    "for i in range(1, 402):\n",
    "    df = get_info(i)\n",
    "    ds_info = ds_info.append(df, sort=False)\n",
    "    \n",
    "end = time.time()\n",
    "print('%.3f' %(end-start))"
   ]
  },
  {
   "cell_type": "raw",
   "metadata": {
    "collapsed": true
   },
   "source": [
    "import concurrent.futures\n",
    "import time\n",
    "col_names=['price','locali','superficie','bagni','piano']\n",
    "ds_info = pd.DataFrame(columns=col_names)\n",
    "\n",
    "start = time.time()\n",
    "\n",
    "#multi process\n",
    "excuter=concurrent.futures.ProcessPoolExecutor(max_workers=2)\n",
    "\n",
    "    excuter.submit(get_info(i))\n",
    "    ds_info = ds_info.append(d, sort=False)\n",
    "    print('i', i)\n",
    "    print(len(ds_info))\n",
    "for j in range(200, 401):\n",
    "    excuter.submit(get_info(j))\n",
    "    ds_info = ds_info.append(d, sort=False)\n",
    "    print('j', j)\n",
    "    print(len(ds_info))\n",
    "\n",
    "#single process\n",
    "#  result=list(map(Calc,numbers))\n",
    "\n",
    "end = time.time()\n",
    "print('%.3f' %(end-start))"
   ]
  },
  {
   "cell_type": "code",
   "execution_count": 306,
   "metadata": {},
   "outputs": [
    {
     "data": {
      "text/plain": [
       "1.0    1640\n",
       "2.0    1124\n",
       "3.0     577\n",
       "4.0     270\n",
       "5.0     124\n",
       "6.0      65\n",
       "7.0      35\n",
       "8.0      17\n",
       "9.0       7\n",
       "Name: piano, dtype: int64"
      ]
     },
     "execution_count": 306,
     "metadata": {},
     "output_type": "execute_result"
    }
   ],
   "source": [
    "ds_info['piano'].value_counts()"
   ]
  },
  {
   "cell_type": "code",
   "execution_count": 307,
   "metadata": {},
   "outputs": [
    {
     "data": {
      "text/plain": [
       "1    1640\n",
       "2    1124\n",
       "T     911\n",
       "A     595\n",
       "3     577\n",
       "R     400\n",
       "4     270\n",
       "5     124\n",
       "6      65\n",
       "S      57\n",
       "7      35\n",
       "8      17\n",
       "9       7\n",
       "Name: piano, dtype: int64"
      ]
     },
     "execution_count": 307,
     "metadata": {},
     "output_type": "execute_result"
    }
   ],
   "source": [
    "ds_slow['piano'].value_counts()"
   ]
  },
  {
   "cell_type": "code",
   "execution_count": 233,
   "metadata": {},
   "outputs": [
    {
     "data": {
      "text/html": [
       "<div>\n",
       "<style scoped>\n",
       "    .dataframe tbody tr th:only-of-type {\n",
       "        vertical-align: middle;\n",
       "    }\n",
       "\n",
       "    .dataframe tbody tr th {\n",
       "        vertical-align: top;\n",
       "    }\n",
       "\n",
       "    .dataframe thead th {\n",
       "        text-align: right;\n",
       "    }\n",
       "</style>\n",
       "<table border=\"1\" class=\"dataframe\">\n",
       "  <thead>\n",
       "    <tr style=\"text-align: right;\">\n",
       "      <th></th>\n",
       "      <th>price</th>\n",
       "      <th>locali</th>\n",
       "      <th>superficie</th>\n",
       "      <th>bagni</th>\n",
       "      <th>piano</th>\n",
       "    </tr>\n",
       "  </thead>\n",
       "  <tbody>\n",
       "    <tr>\n",
       "      <th>0</th>\n",
       "      <td>590.000</td>\n",
       "      <td>3</td>\n",
       "      <td>170</td>\n",
       "      <td>2</td>\n",
       "      <td>3</td>\n",
       "    </tr>\n",
       "    <tr>\n",
       "      <th>1</th>\n",
       "      <td>12.500</td>\n",
       "      <td>1</td>\n",
       "      <td>9</td>\n",
       "      <td>NaN</td>\n",
       "      <td>NaN</td>\n",
       "    </tr>\n",
       "    <tr>\n",
       "      <th>2</th>\n",
       "      <td>220.000</td>\n",
       "      <td>4</td>\n",
       "      <td>140</td>\n",
       "      <td>2</td>\n",
       "      <td>1</td>\n",
       "    </tr>\n",
       "    <tr>\n",
       "      <th>3</th>\n",
       "      <td>830.000</td>\n",
       "      <td>5</td>\n",
       "      <td>245</td>\n",
       "      <td>3</td>\n",
       "      <td>A</td>\n",
       "    </tr>\n",
       "    <tr>\n",
       "      <th>4</th>\n",
       "      <td>18.000</td>\n",
       "      <td>1</td>\n",
       "      <td>24</td>\n",
       "      <td>NaN</td>\n",
       "      <td>NaN</td>\n",
       "    </tr>\n",
       "  </tbody>\n",
       "</table>\n",
       "</div>"
      ],
      "text/plain": [
       "     price locali superficie bagni piano\n",
       "0  590.000      3        170     2     3\n",
       "1   12.500      1          9   NaN   NaN\n",
       "2  220.000      4        140     2     1\n",
       "3  830.000      5        245     3     A\n",
       "4   18.000      1         24   NaN   NaN"
      ]
     },
     "execution_count": 233,
     "metadata": {},
     "output_type": "execute_result"
    }
   ],
   "source": [
    "infodata.head()"
   ]
  },
  {
   "cell_type": "code",
   "execution_count": null,
   "metadata": {},
   "outputs": [],
   "source": []
  },
  {
   "cell_type": "markdown",
   "metadata": {},
   "source": [
    "# Dataset of description"
   ]
  },
  {
   "cell_type": "code",
   "execution_count": 221,
   "metadata": {},
   "outputs": [
    {
     "name": "stdout",
     "output_type": "stream",
     "text": [
      "['Direttamente', 'dalla', 'Proprietà', 'vendesi', 'in', 'palazzo', 'signorile', 'e', 'silenzioso', 'situato', 'fuori', 'da', 'zona', 'ZTL', 'appartamento', 'in', 'ottime', 'condizioni', 'e', 'perfettamente', 'tenuto,', 'di', 'ampia', 'metratura', 'e', 'molto', 'luminoso,', 'situato', 'al', 'terzo', 'piano', 'con', 'ascensore.', 'Stato', 'occupazionale:', 'libero.', \"E'\", 'composto', 'da', 'ingresso,', 'ampio', 'salone,', 'cucina', 'abitabile,', 'due', 'ampie', 'camere', 'matrimoniali,', 'una', 'camera', 'singola,', 'studio,', 'due', 'bagni', 'finestrati', 'con', 'doccia', 'e', 'vasca,', 'ampio', 'balcone,', '2', 'cantine.', 'Aria', 'condizionata', 'e', 'radiatori', 'già', 'dotati', 'di', 'contacalorie', 'per', 'una', 'gestione', 'autonoma', 'del', 'riscaldamento.', 'Affacci', 'su', 'via', 'Riva', 'Reno/Via', 'Grada/Via', 'San', 'Felice.', 'Posizione', 'strategica,', 'vicinissima', 'a', 'negozi', 'ed', 'al', 'centro', 'storico,', 'raggiungibile', 'comodamente', 'a', 'piedi', '(15', 'min.', 'Piazza', 'Maggiore).', 'Per', 'visite', 'e', 'maggiori', 'informazioni', 'contattare', 'il', '348/6710307.', '...', 'Leggi', 'tutto']\n",
      "change\n",
      "['Monterenzio,', 'Pizzano,', 'appartamento', 'su', '2', 'livelli', 'con', 'giardino', 'Sulle', 'colline', 'di', 'Monterenzio,', 'in', 'località', \"Ca'\", 'di', 'Bazzone,', 'Pizzano,', 'in', 'zona', 'collinare', 'residenziale', 'contornata', 'dal', 'verde,', 'panoramica,', 'in', 'contesto', 'tranquillo,', 'di', 'recente', 'costruzione;', \"all'interno\", 'di', 'palazzina', 'quadrifamiliare', 'edificata', 'nel', '1998,', 'non', 'dotata', 'di', 'ascensore,', 'disponibile', 'in', 'vendita', 'appartamento', 'disposto', 'su', '2', 'livelli,', 'di', 'circa', '154', 'mq', 'comm,', 'con', 'ingresso', 'indipendente', 'e', 'giardino', 'privato', 'composto', 'al', 'piano', '1°', 'da:', 'ingresso,', 'bella', 'cucina', 'abitabile,', 'sala', 'con', 'accesso', 'al', 'giardino', 'di', 'circa', '100', 'mq,', 'disimpegno', 'notte,', '3', 'camere', 'da', 'letto,', 'bagno', 'finestrato', 'con', 'doccia;', 'al', 'piano', 'terra', 'collegato', 'da', 'scala', 'interna:', 'taverna', 'con', 'camino,', 'secondo', 'bagno/lavanderia,', 'ripostiglio', 'e', 'box', 'auto', 'di', '19', 'mq;', 'a', 'questo', 'livello,', 'data', 'la', 'conformazione', 'del', 'terreno', \"l'appartamento\", 'ha', 'un', 'lato', 'contro', 'terra.', \"L'immobile\", \"e'\", 'stato', 'oggetto', 'di', \"un'attenta\", 'e', 'completamente', 'ristrutturato', 'nel', '2013', 'adottando', 'finiture', 'moderne,', 'dal', 'gusto', 'sobrio.', 'Dotazioni:', 'pavimenti', 'in', 'grès', 'porcellanato', 'simil', 'parquet', 'di', 'colore', 'chiaro,', 'porte', 'interne', 'di', 'design', 'bianche', 'con', 'cardini', 'a', 'scomparsa', 'alcune', 'a', 'scrigno,', 'riscaldamento', 'autonomo', 'con', 'caldaia', 'a', 'condensazione,', 'impianti', 'a', 'norma', 'di', 'legge', 'certificati,', 'impianto', 'di', 'aria', 'condizionata', 'in', 'cucina,', 'impianto', 'di', 'allarme', 'con', 'sensori', 'volumetrici', 'e', 'perimetrici,', 'infissi', 'con', 'doppi', 'vetri,', 'casina', 'esterna', 'in', 'legno', 'per', 'gli', 'attrezzi,', 'addolcitore', \"dell'acqua\", 'e', 'molto', 'altro.', 'Inoltre', \"l'immobile\", 'gode', 'di', '3', 'accessi:', 'dal', 'vano', 'condominiale,', 'dal', 'giardino', 'o', \"dall'autorimessa,\", 'Classe', 'F', 'EP', '194,86', 'Kwh/mq/anno.', 'Leggi', 'tutto']\n",
      "change\n",
      "['Via', 'Benedetto', 'Marcello-Foscherara,', 'vendiamo', 'autorimessa', 'singola', 'adatta', 'per', 'auto', 'piccole', '(strette)', 'o', 'ad', 'uso', 'magazzino.', 'Libera', 'subito,', 'no', 'riscaldamento', 'e', 'no', 'impianto', 'elettrico.', 'Volendo', 'ne', 'sono', 'disponibili', 'altre', 'nello', 'stesso', 'cortile,', 'anche', 'adiacenti.', 'autorimessa', 'al', 'piano', 'terra', 'con', 'comodo', 'accesso', 'e', 'ampia', 'zona', 'di', 'manovra.', 'Dimensioni', 'adatte', 'ad', 'auto', 'piccole', '(strette)', 'oppure', 'come', 'uso', 'magazzino.', 'Rif.', '1051-18', 'CLASSE', 'ENERGETICA:', 'non_classificabile', 'INDICE', 'DI', 'PRESTAZIONE', 'ENERGETICA:', '0.00', 'Leggi', 'tutto']\n",
      "change\n",
      "['Castenaso', 'APPARTAMENTO', 'libero', 'subito,', 'riscaldamento', 'autonomo,', 'disposto', 'su', '2', 'livelli,', 'nelle', 'immediate', 'adiacenze', 'di', 'Castenaso,', 'inserito', \"all'interno\", 'di', \"un'antica\", 'villa', 'completamente', 'ristrutturata,', 'composto', 'da', 'ingresso', 'su', 'ampio', 'salone,', 'cucina', 'abitabile,', '2', 'camere', 'da', 'letto,', 'cabina', 'armadio,', '2', 'bagni', 'finestrati.', 'Porta', 'di', 'ingresso', 'blindata', 'con', 'videocitofono,', 'infissi', 'in', 'legno', 'con', 'doppio', 'vetro,', 'travi', 'in', 'legno', 'a', 'vista.', 'Camere:', '2', '-', 'Disposizione:', '2', 'livelli', '-', 'Anno', 'costruzione:', '1950', '-', 'Consegna:', 'subito', '-', 'Cond.', 'esterne:', 'buono', '-', 'Ristrutturato:', '1996', '-', 'Classe', 'G', '-', 'EP', '≥210', 'kWh/mq/a', '-', '€', '220.000', 'volendo', 'garage', '(Rif.', 'ZA/43/12)', 'Leggi', 'tutto']\n",
      "change\n",
      "['VENDESI', 'Bologna', 'Saragozza', 'Facoltà', 'di', 'Ingegneria', 'APPARTAMENTO', 'di', 'mq', '240,', 'in', 'zona', 'pedecollinare', 'ma', 'comodo', 'a', 'tutti', 'i', 'servizi,', 'ultimo', 'piano', 'con', 'ascensore,', 'in', 'contesto', 'signorile,', 'già', 'predisposto', 'per', 'creare', 'due', 'unità', 'abitative', ',', 'con', 'vista', 'panoramica', 'sulla', 'città', 'e', 'affacci', 'sul', 'verde,', 'molto', 'luminoso', 'e', 'silenzioso,', 'composto', 'da:', 'ingresso,', 'salone', 'doppio,', '4', 'camere', 'matrimoniali,', 'cucina', 'abitabile,', '3', 'bagni,', '6', 'balconi,', 'vari', 'ripostigli,', 'cantina', 'ciclabile,', 'posto', 'auto', 'condominiale', 'e', 'volendo', 'garage.', 'Camere:', '4', '-', 'Anno', 'costruzione:', '1960', '-', 'Consegna:', '12', 'mesi', '-', 'Cond.', 'esterne:', 'ottimo', '-', 'Classe', 'G', '-', 'EP', '293.44', 'kWh/mq/a', '-', '€', '830.000', '(Rif.', 'EB/09/12)', 'Leggi', 'tutto']\n",
      "change\n",
      "['Castenaso', 'AUTORIMESSA', 'di', 'circa', '24', 'mq,', 'lunghezza', '6,10', 'metri', 'e', 'larghezza', '3,45', 'metri,', 'al', 'piano', 'interrato,', 'libera', 'subito,', 'zona', 'centrale', 'vicina', 'al', 'Parco', 'della', 'Resistenza,', 'accessibile', 'con', 'molta', 'facilità', 'dalla', 'strada', 'principale.', 'Ideale', 'sia', 'per', 'parcheggio', 'auto', 'più', 'bici', 'o', 'moto', 'oppure', 'per', 'per', 'utilizzo', 'come', 'deposito/magazzino.', 'Anno', 'costruzione:', '1975', '-', 'Consegna:', 'a', 'rogito', '-', 'Cond.', 'esterne:', 'buono', '-', 'Classe', 'G', '-', 'EP', '≥80', 'kWh/mc/a', '-', '€', '18.000', '(Rif.', 'ZA/21/12)', 'Leggi', 'tutto']\n",
      "change\n",
      "['Budrio', 'Budrio', 'In', 'posizione', 'molto', 'ben', 'servita,', 'proponiamo', 'in', 'vendita', 'autorimesse', 'di', 'varie', 'metrature.', 'Prezzi', 'a', 'partire', 'da', '20.000', 'Classe', 'energetica', 'in', 'corso', 'di', 'classificazione', 'Per', 'informazioni', 'tel.', '339.6090882', 'www.casanovagruppoimmobiliare.it', 'Leggi', 'tutto']\n",
      "change\n",
      "['Bolognina', 'via', 'Cignani', 'ad.ze', 'Rif', '23:', 'Virtual', 'Tour', '360°', 'Bolognina', 'via', 'Cignani', 'ad.ze', 'Rif', '23:', 'Virtual', 'Tour', '360°:', 'In', 'condominio', 'tenuto', 'in', 'buono', 'stato,', 'di', 'poche', 'unità', 'abitative,', 'disponiamo', 'di', 'ampio', 'appartamento', 'di', '5', 'locali', 'al', 'piano', 'intermedio', 'composto', 'da:', 'ampio', 'ingresso,', 'sala,', 'tinello,', 'cucinotto,', '3', 'camere', 'da', 'letto', 'matrimoniali,', 'bagno', 'finestrato,', 'balcone,', 'ripostiglio', 'e', 'Cantina.', 'Libero', 'Subito.', 'Infissi', 'in', 'alluminio', 'vetro', 'camera.', 'Impianto', 'di', 'riscaldamento', 'a', 'norma', 'con', 'certificazione', 'scritta.', 'Impianto', 'clima', '4', 'split.', 'Porta', 'blindata.', 'Pavimentazione', 'in', 'ceramica.', 'Doppia', 'esposizione.', 'Luminoso,', 'interno', 'e', 'silenzioso.', 'Bolognina', 'via', 'Cignani', 'ad.ze', 'Rif', '23:', 'Virtual', 'Tour', '360°:', 'In', 'condominio', 'tenuto', 'in', 'buono', 'stato,', 'di', 'poche', 'unità', 'abitative,', 'disponiamo', 'di', 'ampio', 'appartamento', 'di', '5', 'locali', 'al', 'piano', 'intermedio', 'composto', 'da:', 'ampio', 'ingresso,', 'sala,', 'tinello,', 'cucinotto,', '3', 'camere', 'da', 'letto', 'matrimoniali,', 'bagno', 'finestrato,', 'balcone,', 'ripostiglio', 'e', 'Cantina.', 'Libero', 'Subito.', 'Infissi', 'in', 'alluminio', 'vetro', 'camera.', 'Impianto', 'di', 'riscaldamento', 'a', 'norma', 'con', 'certificazione', 'scritta.', 'Impianto', 'clima', '4', 'split.', 'Porta', 'blindata.', 'Pavimentazione', 'in', 'ceramica.', 'Volendo', 'garage', 'di', '40', 'm', 'in', 'abbinato', 'in', 'autorimessa', 'con', 'apertura', 'battente.', 'Misure:', 'Largh.', 'entrata', '2,42mq,', 'largh.', '4,50mq,', 'lungh.', '8,60mq,', 'altezza', 'entrata', '1,90mq,', 'altezza', '2,10mq.', 'Doppia', 'esposizione.', 'Luminoso,', 'interno', 'e', 'silenzioso.', 'Questo', 'Immobile', 'viene', 'presentato', 'con', 'Fotografie', 'in', 'HD', 'e', 'Virtual', 'Tour', '360°', 'per', 'visitare', 'comodamente', 'da', 'casa', \"l'appartamento!\", 'Tempocasa', 'Ag.Bolognina1', 'via', 'Ferrarese', '8/b', '40128', '-', 'Bologna', 'Tel:', '051-371.994', 'WhatsApp:', '051-371.994', 'email:', 'bolognabolognina@tempocasa.it', 'Leggi', 'tutto']\n",
      "['×Close', 'Immobile', 'garantito', 'TEMPOCASA', '-', 'Affiliato', 'Bologna', '-', 'Bolognina', '1', 'desidera', 'prendersi', \"l'impegno\", 'di', 'mettere', 'a', 'disposizione', 'dei', 'propri', 'clienti', 'la', 'sua', 'professionalità', 'e', 'competenza', 'in', 'un', 'momento', 'così', 'importante', 'come', 'la', 'scelta', 'della', 'tua', 'nuova', 'casa.', 'Questo', 'impegno', 'è', 'formalizzato', 'in:', 'tutti', 'i', 'dati', 'della', 'scheda', 'immobile', 'sono', 'reali', 'e', 'certificabili.', 'Innanzitutto', 'lo', 'è', 'la', 'superficie', 'commerciale', 'definita', 'in', 'accordo', 'al', 'protocollo', 'di', 'calcolo', \"dell'Osservatorio\", 'del', 'Mercato', 'Immobiliare', \"dell'Agenzia\", 'delle', 'Entrate', '(riferimento:', 'determinazione', 'consistenza);', 'la', 'documentazione', \"dell'immobile\", 'è', 'completa', 'e', 'visionabile.', 'Nello', 'specifico', 'sono', 'disponibili', 'su', 'richiesta:', 'visura', 'catastale,', 'planimetria', 'catastale,', 'certificazione', 'energetica', 'e,', 'solo', 'per', 'le', 'vendite,', 'visura', 'ipotecaria;', 'in', 'qualità', 'di', 'Operatore', 'Professionale', 'si', 'assisterà', 'il', 'cliente', 'dalle', 'verifiche', 'preliminari', \"dell'immobile\", 'sino', 'alla', 'stipula', \"dell'atto\", 'notarile', 'o', 'del', 'contratto', 'di', 'locazione,', 'in', 'modo', 'da', 'essere', 'al', 'suo', 'fianco', 'fino', 'al', 'completamento', \"dell'operazione\", 'immobiliare.']\n",
      "['×Close', 'Immobile', 'garantito', 'TEMPOCASA', '-', 'Affiliato', 'Bologna', '-', 'Bolognina', '1', 'desidera', 'prendersi', \"l'impegno\", 'di', 'mettere', 'a', 'disposizione', 'dei', 'propri', 'clienti', 'la', 'sua', 'professionalità', 'e', 'competenza', 'in', 'un', 'momento', 'così', 'importante', 'come', 'la', 'scelta', 'della', 'tua', 'nuova', 'casa.', 'Questo', 'impegno', 'è', 'formalizzato', 'in:', 'tutti', 'i', 'dati', 'della', 'scheda', 'immobile', 'sono', 'reali', 'e', 'certificabili.', 'Innanzitutto', 'lo', 'è', 'la', 'superficie', 'commerciale', 'definita', 'in', 'accordo', 'al', 'protocollo', 'di', 'calcolo', \"dell'Osservatorio\", 'del', 'Mercato', 'Immobiliare', \"dell'Agenzia\", 'delle', 'Entrate', '(riferimento:', 'determinazione', 'consistenza);', 'la', 'documentazione', \"dell'immobile\", 'è', 'completa', 'e', 'visionabile.', 'Nello', 'specifico', 'sono', 'disponibili', 'su', 'richiesta:', 'visura', 'catastale,', 'planimetria', 'catastale,', 'certificazione', 'energetica', 'e,', 'solo', 'per', 'le', 'vendite,', 'visura', 'ipotecaria;', 'in', 'qualità', 'di', 'Operatore', 'Professionale', 'si', 'assisterà', 'il', 'cliente', 'dalle', 'verifiche', 'preliminari', \"dell'immobile\", 'sino', 'alla', 'stipula', \"dell'atto\", 'notarile', 'o', 'del', 'contratto', 'di', 'locazione,', 'in', 'modo', 'da', 'essere', 'al', 'suo', 'fianco', 'fino', 'al', 'completamento', \"dell'operazione\", 'immobiliare.']\n",
      "['×Close', 'Immobile', 'garantito', 'TEMPOCASA', '-', 'Affiliato', 'Bologna', '-', 'Bolognina', '1', 'desidera', 'prendersi', \"l'impegno\", 'di', 'mettere', 'a', 'disposizione', 'dei', 'propri', 'clienti', 'la', 'sua', 'professionalità', 'e', 'competenza', 'in', 'un', 'momento', 'così', 'importante', 'come', 'la', 'scelta', 'della', 'tua', 'nuova', 'casa.', 'Questo', 'impegno', 'è', 'formalizzato', 'in:', 'tutti', 'i', 'dati', 'della', 'scheda', 'immobile', 'sono', 'reali', 'e', 'certificabili.', 'Innanzitutto', 'lo', 'è', 'la', 'superficie', 'commerciale', 'definita', 'in', 'accordo', 'al', 'protocollo', 'di', 'calcolo', \"dell'Osservatorio\", 'del', 'Mercato', 'Immobiliare', \"dell'Agenzia\", 'delle', 'Entrate', '(riferimento:', 'determinazione', 'consistenza);', 'la', 'documentazione', \"dell'immobile\", 'è', 'completa', 'e', 'visionabile.', 'Nello', 'specifico', 'sono', 'disponibili', 'su', 'richiesta:', 'visura', 'catastale,', 'planimetria', 'catastale,', 'certificazione', 'energetica', 'e,', 'solo', 'per', 'le', 'vendite,', 'visura', 'ipotecaria;', 'in', 'qualità', 'di', 'Operatore', 'Professionale', 'si', 'assisterà', 'il', 'cliente', 'dalle', 'verifiche', 'preliminari', \"dell'immobile\", 'sino', 'alla', 'stipula', \"dell'atto\", 'notarile', 'o', 'del', 'contratto', 'di', 'locazione,', 'in', 'modo', 'da', 'essere', 'al', 'suo', 'fianco', 'fino', 'al', 'completamento', \"dell'operazione\", 'immobiliare.']\n",
      "['×Close', 'Immobile', 'garantito', 'TEMPOCASA', '-', 'Affiliato', 'Bologna', '-', 'Bolognina', '1', 'desidera', 'prendersi', \"l'impegno\", 'di', 'mettere', 'a', 'disposizione', 'dei', 'propri', 'clienti', 'la', 'sua', 'professionalità', 'e', 'competenza', 'in', 'un', 'momento', 'così', 'importante', 'come', 'la', 'scelta', 'della', 'tua', 'nuova', 'casa.', 'Questo', 'impegno', 'è', 'formalizzato', 'in:', 'tutti', 'i', 'dati', 'della', 'scheda', 'immobile', 'sono', 'reali', 'e', 'certificabili.', 'Innanzitutto', 'lo', 'è', 'la', 'superficie', 'commerciale', 'definita', 'in', 'accordo', 'al', 'protocollo', 'di', 'calcolo', \"dell'Osservatorio\", 'del', 'Mercato', 'Immobiliare', \"dell'Agenzia\", 'delle', 'Entrate', '(riferimento:', 'determinazione', 'consistenza);', 'la', 'documentazione', \"dell'immobile\", 'è', 'completa', 'e', 'visionabile.', 'Nello', 'specifico', 'sono', 'disponibili', 'su', 'richiesta:', 'visura', 'catastale,', 'planimetria', 'catastale,', 'certificazione', 'energetica', 'e,', 'solo', 'per', 'le', 'vendite,', 'visura', 'ipotecaria;', 'in', 'qualità', 'di', 'Operatore', 'Professionale', 'si', 'assisterà', 'il', 'cliente', 'dalle', 'verifiche', 'preliminari', \"dell'immobile\", 'sino', 'alla', 'stipula', \"dell'atto\", 'notarile', 'o', 'del', 'contratto', 'di', 'locazione,', 'in', 'modo', 'da', 'essere', 'al', 'suo', 'fianco', 'fino', 'al', 'completamento', \"dell'operazione\", 'immobiliare.']\n",
      "['TEMPOCASA', '-', 'Affiliato', 'Bologna', '-', 'Bolognina', '1', 'desidera', 'prendersi', \"l'impegno\", 'di', 'mettere', 'a', 'disposizione', 'dei', 'propri', 'clienti', 'la', 'sua', 'professionalità', 'e', 'competenza', 'in', 'un', 'momento', 'così', 'importante', 'come', 'la', 'scelta', 'della', 'tua', 'nuova', 'casa.', 'Questo', 'impegno', 'è', 'formalizzato', 'in:', 'tutti', 'i', 'dati', 'della', 'scheda', 'immobile', 'sono', 'reali', 'e', 'certificabili.', 'Innanzitutto', 'lo', 'è', 'la', 'superficie', 'commerciale', 'definita', 'in', 'accordo', 'al', 'protocollo', 'di', 'calcolo', \"dell'Osservatorio\", 'del', 'Mercato', 'Immobiliare', \"dell'Agenzia\", 'delle', 'Entrate', '(riferimento:', 'determinazione', 'consistenza);', 'la', 'documentazione', \"dell'immobile\", 'è', 'completa', 'e', 'visionabile.', 'Nello', 'specifico', 'sono', 'disponibili', 'su', 'richiesta:', 'visura', 'catastale,', 'planimetria', 'catastale,', 'certificazione', 'energetica', 'e,', 'solo', 'per', 'le', 'vendite,', 'visura', 'ipotecaria;', 'in', 'qualità', 'di', 'Operatore', 'Professionale', 'si', 'assisterà', 'il', 'cliente', 'dalle', 'verifiche', 'preliminari', \"dell'immobile\", 'sino', 'alla', 'stipula', \"dell'atto\", 'notarile', 'o', 'del', 'contratto', 'di', 'locazione,', 'in', 'modo', 'da', 'essere', 'al', 'suo', 'fianco', 'fino', 'al', 'completamento', \"dell'operazione\", 'immobiliare.']\n",
      "['TEMPOCASA', '-', 'Affiliato', 'Bologna', '-', 'Bolognina', '1', 'desidera', 'prendersi', \"l'impegno\", 'di', 'mettere', 'a', 'disposizione', 'dei', 'propri', 'clienti', 'la', 'sua', 'professionalità', 'e', 'competenza', 'in', 'un', 'momento', 'così', 'importante', 'come', 'la', 'scelta', 'della', 'tua', 'nuova', 'casa.', 'Questo', 'impegno', 'è', 'formalizzato', 'in:', 'tutti', 'i', 'dati', 'della', 'scheda', 'immobile', 'sono', 'reali', 'e', 'certificabili.', 'Innanzitutto', 'lo', 'è', 'la', 'superficie', 'commerciale', 'definita', 'in', 'accordo', 'al', 'protocollo', 'di', 'calcolo', \"dell'Osservatorio\", 'del', 'Mercato', 'Immobiliare', \"dell'Agenzia\", 'delle', 'Entrate', '(riferimento:', 'determinazione', 'consistenza);', 'la', 'documentazione', \"dell'immobile\", 'è', 'completa', 'e', 'visionabile.', 'Nello', 'specifico', 'sono', 'disponibili', 'su', 'richiesta:', 'visura', 'catastale,', 'planimetria', 'catastale,', 'certificazione', 'energetica', 'e,', 'solo', 'per', 'le', 'vendite,', 'visura', 'ipotecaria;', 'in', 'qualità', 'di', 'Operatore', 'Professionale', 'si', 'assisterà', 'il', 'cliente', 'dalle', 'verifiche', 'preliminari', \"dell'immobile\", 'sino', 'alla', 'stipula', \"dell'atto\", 'notarile', 'o', 'del', 'contratto', 'di', 'locazione,', 'in', 'modo', 'da', 'essere', 'al', 'suo', 'fianco', 'fino', 'al', 'completamento', \"dell'operazione\", 'immobiliare.']\n",
      "change\n"
     ]
    },
    {
     "name": "stdout",
     "output_type": "stream",
     "text": [
      "['Rif.', 'SS141:', 'Via', 'Solferino.', 'in', 'zona', 'di', 'pregio,', 'interna', 'e', 'silenziosa', 'proponiamo,', 'in', 'antico', 'stabile', 'porticato', 'del', \"'700,\", 'appartamento', 'trilocale', 'da', 'ristrutturare', 'al', 'piano', 'terra', 'composto', 'da', 'ingresso,', 'soggiorno,', 'cucinotto,', '2', 'camere,', 'bagno', 'finestrato', 'e', 'cortile', 'privato', 'interno', 'pavimentato.', \"L'abitazione\", 'dispone', 'di', 'pavimentazione', 'in', 'ceramica,', 'infissi', 'in', 'alluminio', 'vetro', 'singolo,', 'e', 'termo', 'autonomo', 'con', 'bassissime', 'spese', 'di', 'condominio.', 'Ampia', 'possibilità', 'di', 'personalizzazione.', 'Ottima', 'soluzione', 'da', 'investimento.', 'Completa', 'la', 'proprietà', \"un'ampia\", 'cantina', 'di', '22', 'mq.', 'Libero', 'Subito!', 'La', 'Geolocalizzazione', 'dell’immobile', 'potrebbe', 'essere', 'approssimativa.', 'MACHINA', 'S.r.l.', 'Affiliato', 'Tempocasa', 'Via', 'Laura', 'Bassi', 'Veratti', '30/C', '-', 'Bologna', 'Tel.', '329', '7863782', 'Leggi', 'tutto']\n",
      "['×Close', 'Immobile', 'garantito', 'TEMPOCASA', 'CENTRO', 'STORICO', 'SANTO', 'STEFANO', 'MAZZINI', 'desidera', 'prendersi', \"l'impegno\", 'di', 'mettere', 'a', 'disposizione', 'dei', 'propri', 'clienti', 'la', 'sua', 'professionalità', 'e', 'competenza', 'in', 'un', 'momento', 'così', 'importante', 'come', 'la', 'scelta', 'della', 'tua', 'nuova', 'casa.', 'Questo', 'impegno', 'è', 'formalizzato', 'in:', 'tutti', 'i', 'dati', 'della', 'scheda', 'immobile', 'sono', 'reali', 'e', 'certificabili.', 'Innanzitutto', 'lo', 'è', 'la', 'superficie', 'commerciale', 'definita', 'in', 'accordo', 'al', 'protocollo', 'di', 'calcolo', \"dell'Osservatorio\", 'del', 'Mercato', 'Immobiliare', \"dell'Agenzia\", 'delle', 'Entrate', '(riferimento:', 'determinazione', 'consistenza);', 'la', 'documentazione', \"dell'immobile\", 'è', 'completa', 'e', 'visionabile.', 'Nello', 'specifico', 'sono', 'disponibili', 'su', 'richiesta:', 'visura', 'catastale,', 'planimetria', 'catastale,', 'certificazione', 'energetica', 'e,', 'solo', 'per', 'le', 'vendite,', 'visura', 'ipotecaria;', 'in', 'qualità', 'di', 'Operatore', 'Professionale', 'si', 'assisterà', 'il', 'cliente', 'dalle', 'verifiche', 'preliminari', \"dell'immobile\", 'sino', 'alla', 'stipula', \"dell'atto\", 'notarile', 'o', 'del', 'contratto', 'di', 'locazione,', 'in', 'modo', 'da', 'essere', 'al', 'suo', 'fianco', 'fino', 'al', 'completamento', \"dell'operazione\", 'immobiliare.']\n",
      "['×Close', 'Immobile', 'garantito', 'TEMPOCASA', 'CENTRO', 'STORICO', 'SANTO', 'STEFANO', 'MAZZINI', 'desidera', 'prendersi', \"l'impegno\", 'di', 'mettere', 'a', 'disposizione', 'dei', 'propri', 'clienti', 'la', 'sua', 'professionalità', 'e', 'competenza', 'in', 'un', 'momento', 'così', 'importante', 'come', 'la', 'scelta', 'della', 'tua', 'nuova', 'casa.', 'Questo', 'impegno', 'è', 'formalizzato', 'in:', 'tutti', 'i', 'dati', 'della', 'scheda', 'immobile', 'sono', 'reali', 'e', 'certificabili.', 'Innanzitutto', 'lo', 'è', 'la', 'superficie', 'commerciale', 'definita', 'in', 'accordo', 'al', 'protocollo', 'di', 'calcolo', \"dell'Osservatorio\", 'del', 'Mercato', 'Immobiliare', \"dell'Agenzia\", 'delle', 'Entrate', '(riferimento:', 'determinazione', 'consistenza);', 'la', 'documentazione', \"dell'immobile\", 'è', 'completa', 'e', 'visionabile.', 'Nello', 'specifico', 'sono', 'disponibili', 'su', 'richiesta:', 'visura', 'catastale,', 'planimetria', 'catastale,', 'certificazione', 'energetica', 'e,', 'solo', 'per', 'le', 'vendite,', 'visura', 'ipotecaria;', 'in', 'qualità', 'di', 'Operatore', 'Professionale', 'si', 'assisterà', 'il', 'cliente', 'dalle', 'verifiche', 'preliminari', \"dell'immobile\", 'sino', 'alla', 'stipula', \"dell'atto\", 'notarile', 'o', 'del', 'contratto', 'di', 'locazione,', 'in', 'modo', 'da', 'essere', 'al', 'suo', 'fianco', 'fino', 'al', 'completamento', \"dell'operazione\", 'immobiliare.']\n",
      "['×Close', 'Immobile', 'garantito', 'TEMPOCASA', 'CENTRO', 'STORICO', 'SANTO', 'STEFANO', 'MAZZINI', 'desidera', 'prendersi', \"l'impegno\", 'di', 'mettere', 'a', 'disposizione', 'dei', 'propri', 'clienti', 'la', 'sua', 'professionalità', 'e', 'competenza', 'in', 'un', 'momento', 'così', 'importante', 'come', 'la', 'scelta', 'della', 'tua', 'nuova', 'casa.', 'Questo', 'impegno', 'è', 'formalizzato', 'in:', 'tutti', 'i', 'dati', 'della', 'scheda', 'immobile', 'sono', 'reali', 'e', 'certificabili.', 'Innanzitutto', 'lo', 'è', 'la', 'superficie', 'commerciale', 'definita', 'in', 'accordo', 'al', 'protocollo', 'di', 'calcolo', \"dell'Osservatorio\", 'del', 'Mercato', 'Immobiliare', \"dell'Agenzia\", 'delle', 'Entrate', '(riferimento:', 'determinazione', 'consistenza);', 'la', 'documentazione', \"dell'immobile\", 'è', 'completa', 'e', 'visionabile.', 'Nello', 'specifico', 'sono', 'disponibili', 'su', 'richiesta:', 'visura', 'catastale,', 'planimetria', 'catastale,', 'certificazione', 'energetica', 'e,', 'solo', 'per', 'le', 'vendite,', 'visura', 'ipotecaria;', 'in', 'qualità', 'di', 'Operatore', 'Professionale', 'si', 'assisterà', 'il', 'cliente', 'dalle', 'verifiche', 'preliminari', \"dell'immobile\", 'sino', 'alla', 'stipula', \"dell'atto\", 'notarile', 'o', 'del', 'contratto', 'di', 'locazione,', 'in', 'modo', 'da', 'essere', 'al', 'suo', 'fianco', 'fino', 'al', 'completamento', \"dell'operazione\", 'immobiliare.']\n",
      "['×Close', 'Immobile', 'garantito', 'TEMPOCASA', 'CENTRO', 'STORICO', 'SANTO', 'STEFANO', 'MAZZINI', 'desidera', 'prendersi', \"l'impegno\", 'di', 'mettere', 'a', 'disposizione', 'dei', 'propri', 'clienti', 'la', 'sua', 'professionalità', 'e', 'competenza', 'in', 'un', 'momento', 'così', 'importante', 'come', 'la', 'scelta', 'della', 'tua', 'nuova', 'casa.', 'Questo', 'impegno', 'è', 'formalizzato', 'in:', 'tutti', 'i', 'dati', 'della', 'scheda', 'immobile', 'sono', 'reali', 'e', 'certificabili.', 'Innanzitutto', 'lo', 'è', 'la', 'superficie', 'commerciale', 'definita', 'in', 'accordo', 'al', 'protocollo', 'di', 'calcolo', \"dell'Osservatorio\", 'del', 'Mercato', 'Immobiliare', \"dell'Agenzia\", 'delle', 'Entrate', '(riferimento:', 'determinazione', 'consistenza);', 'la', 'documentazione', \"dell'immobile\", 'è', 'completa', 'e', 'visionabile.', 'Nello', 'specifico', 'sono', 'disponibili', 'su', 'richiesta:', 'visura', 'catastale,', 'planimetria', 'catastale,', 'certificazione', 'energetica', 'e,', 'solo', 'per', 'le', 'vendite,', 'visura', 'ipotecaria;', 'in', 'qualità', 'di', 'Operatore', 'Professionale', 'si', 'assisterà', 'il', 'cliente', 'dalle', 'verifiche', 'preliminari', \"dell'immobile\", 'sino', 'alla', 'stipula', \"dell'atto\", 'notarile', 'o', 'del', 'contratto', 'di', 'locazione,', 'in', 'modo', 'da', 'essere', 'al', 'suo', 'fianco', 'fino', 'al', 'completamento', \"dell'operazione\", 'immobiliare.']\n",
      "['TEMPOCASA', 'CENTRO', 'STORICO', 'SANTO', 'STEFANO', 'MAZZINI', 'desidera', 'prendersi', \"l'impegno\", 'di', 'mettere', 'a', 'disposizione', 'dei', 'propri', 'clienti', 'la', 'sua', 'professionalità', 'e', 'competenza', 'in', 'un', 'momento', 'così', 'importante', 'come', 'la', 'scelta', 'della', 'tua', 'nuova', 'casa.', 'Questo', 'impegno', 'è', 'formalizzato', 'in:', 'tutti', 'i', 'dati', 'della', 'scheda', 'immobile', 'sono', 'reali', 'e', 'certificabili.', 'Innanzitutto', 'lo', 'è', 'la', 'superficie', 'commerciale', 'definita', 'in', 'accordo', 'al', 'protocollo', 'di', 'calcolo', \"dell'Osservatorio\", 'del', 'Mercato', 'Immobiliare', \"dell'Agenzia\", 'delle', 'Entrate', '(riferimento:', 'determinazione', 'consistenza);', 'la', 'documentazione', \"dell'immobile\", 'è', 'completa', 'e', 'visionabile.', 'Nello', 'specifico', 'sono', 'disponibili', 'su', 'richiesta:', 'visura', 'catastale,', 'planimetria', 'catastale,', 'certificazione', 'energetica', 'e,', 'solo', 'per', 'le', 'vendite,', 'visura', 'ipotecaria;', 'in', 'qualità', 'di', 'Operatore', 'Professionale', 'si', 'assisterà', 'il', 'cliente', 'dalle', 'verifiche', 'preliminari', \"dell'immobile\", 'sino', 'alla', 'stipula', \"dell'atto\", 'notarile', 'o', 'del', 'contratto', 'di', 'locazione,', 'in', 'modo', 'da', 'essere', 'al', 'suo', 'fianco', 'fino', 'al', 'completamento', \"dell'operazione\", 'immobiliare.']\n",
      "['TEMPOCASA', 'CENTRO', 'STORICO', 'SANTO', 'STEFANO', 'MAZZINI', 'desidera', 'prendersi', \"l'impegno\", 'di', 'mettere', 'a', 'disposizione', 'dei', 'propri', 'clienti', 'la', 'sua', 'professionalità', 'e', 'competenza', 'in', 'un', 'momento', 'così', 'importante', 'come', 'la', 'scelta', 'della', 'tua', 'nuova', 'casa.', 'Questo', 'impegno', 'è', 'formalizzato', 'in:', 'tutti', 'i', 'dati', 'della', 'scheda', 'immobile', 'sono', 'reali', 'e', 'certificabili.', 'Innanzitutto', 'lo', 'è', 'la', 'superficie', 'commerciale', 'definita', 'in', 'accordo', 'al', 'protocollo', 'di', 'calcolo', \"dell'Osservatorio\", 'del', 'Mercato', 'Immobiliare', \"dell'Agenzia\", 'delle', 'Entrate', '(riferimento:', 'determinazione', 'consistenza);', 'la', 'documentazione', \"dell'immobile\", 'è', 'completa', 'e', 'visionabile.', 'Nello', 'specifico', 'sono', 'disponibili', 'su', 'richiesta:', 'visura', 'catastale,', 'planimetria', 'catastale,', 'certificazione', 'energetica', 'e,', 'solo', 'per', 'le', 'vendite,', 'visura', 'ipotecaria;', 'in', 'qualità', 'di', 'Operatore', 'Professionale', 'si', 'assisterà', 'il', 'cliente', 'dalle', 'verifiche', 'preliminari', \"dell'immobile\", 'sino', 'alla', 'stipula', \"dell'atto\", 'notarile', 'o', 'del', 'contratto', 'di', 'locazione,', 'in', 'modo', 'da', 'essere', 'al', 'suo', 'fianco', 'fino', 'al', 'completamento', \"dell'operazione\", 'immobiliare.']\n",
      "change\n"
     ]
    },
    {
     "name": "stdout",
     "output_type": "stream",
     "text": [
      "['Mob', '392', '9999666', 'Mob', '349', '2250729', '-', '347', '7101929', 'Acquisto', 'assistito', 'in', 'Asta', 'Giudiziaria', '-', 'Referente', 'procedura', 'Mob.', '392', '9999666', '-', 'Mob.', '349', '2250729', '-', '347', '7101929', '-', 'www.homeagency.it', '-', 'Valore', 'commerciale', '€', '290.000,00', 'IMMOBILE', 'LIBERO', 'AL', 'DECRETO', 'DI', 'TRASFERIMENTO', 'UBICAZIONE', 'E', \"REGOLARITA'\", 'URBANISTICA:', '•', 'Costruzione', '1998', '•', 'Costruita', 'con', 'regolare', 'Concessione', 'Edilizia', '•', 'Autorizzazione', 'Uso', '2001', 'Via', 'Giovanni', 'Papini,', '26/2', '-', 'BOLOGNA', 'quartiere', 'Navile', 'zona', 'Corticella', '•', 'Piano', 'Primo:', 'ingresso,', 'soggiorno/pranzo,', 'cucinotto,', 'disimpegno,', 'due', 'bagni,', 'due', 'camere.', 'Mq', '86,66', '•', 'Piano', 'Primo:', 'loggia.', 'Mq', '6.80', '•', 'Piano', 'Interrato:', 'cantina.', 'Mq', '8.32', '•', 'Piano', 'Interrato:', 'autorimessa.', 'Mq', '14,30', 'Il', 'nostro', 'studio', 'offre', 'la', 'completa', 'assistenza', 'per', \"l'acquisto\", 'in', 'Asta', 'anche', 'tramite', 'MUTUI', 'BANCARI.', 'Assiste', 'ed', 'indirizza,', \"dall'aggiudicazione\", 'fino', 'alla', 'consegna', 'delle', 'chiavi.', 'POLIZZA', 'ASSICURATIVA:', 'Acquista', 'in', 'asta', 'in', 'serenità', 'assicurando', 'il', 'tuo', 'immobile,', 'chiedi', 'un', 'preventivo', 'per', 'una', 'polizza', 'assicurativa', 'contro', 'furto', 'e', 'danni,', 'i', 'nostri', 'consulenti', 'ti', 'sapranno', 'dare', 'le', 'giuste', 'indicazioni.', 'Per', 'un', 'acquisto', 'sicuro', 'e', 'sereno', 'garantisci', 'integralmente', 'il', 'trasferimento', \"dell'immobile\", 'nella', 'sua', 'integrità.', 'HOME', 'AGENCY', 'Referente', 'procedura', 'Mob.', '392', '9999666', '-', 'Mob.', '349', '2250729', '-', '347', '7101929', 'I', 'nostri', 'studi', 'previo', 'appuntamento:', 'BOLOGNA', '(BO)', 'via', 'della', 'Ferriera,', '8/2', 'POMEZIA', '(RM)', 'via', 'Luciano', 'Manara', '5', 'ROMA', '(RM)', '\"Prati\"', '-', 'via', 'Premuda,', '3', 'Leggi', 'tutto']\n",
      "['×Close', 'Immobile', 'garantito', 'Home', 'Agency', 'desidera', 'prendersi', \"l'impegno\", 'di', 'mettere', 'a', 'disposizione', 'dei', 'propri', 'clienti', 'la', 'sua', 'professionalità', 'e', 'competenza', 'in', 'un', 'momento', 'così', 'importante', 'come', 'la', 'scelta', 'della', 'tua', 'nuova', 'casa.', 'Questo', 'impegno', 'è', 'formalizzato', 'in:', 'tutti', 'i', 'dati', 'della', 'scheda', 'immobile', 'sono', 'reali', 'e', 'certificabili.', 'Innanzitutto', 'lo', 'è', 'la', 'superficie', 'commerciale', 'definita', 'in', 'accordo', 'al', 'protocollo', 'di', 'calcolo', \"dell'Osservatorio\", 'del', 'Mercato', 'Immobiliare', \"dell'Agenzia\", 'delle', 'Entrate', '(riferimento:', 'determinazione', 'consistenza);', 'la', 'documentazione', \"dell'immobile\", 'è', 'completa', 'e', 'visionabile.', 'Nello', 'specifico', 'sono', 'disponibili', 'su', 'richiesta:', 'visura', 'catastale,', 'planimetria', 'catastale,', 'certificazione', 'energetica', 'e,', 'solo', 'per', 'le', 'vendite,', 'visura', 'ipotecaria;', 'in', 'qualità', 'di', 'Operatore', 'Professionale', 'si', 'assisterà', 'il', 'cliente', 'dalle', 'verifiche', 'preliminari', \"dell'immobile\", 'sino', 'alla', 'stipula', \"dell'atto\", 'notarile', 'o', 'del', 'contratto', 'di', 'locazione,', 'in', 'modo', 'da', 'essere', 'al', 'suo', 'fianco', 'fino', 'al', 'completamento', \"dell'operazione\", 'immobiliare.']\n",
      "['×Close', 'Immobile', 'garantito', 'Home', 'Agency', 'desidera', 'prendersi', \"l'impegno\", 'di', 'mettere', 'a', 'disposizione', 'dei', 'propri', 'clienti', 'la', 'sua', 'professionalità', 'e', 'competenza', 'in', 'un', 'momento', 'così', 'importante', 'come', 'la', 'scelta', 'della', 'tua', 'nuova', 'casa.', 'Questo', 'impegno', 'è', 'formalizzato', 'in:', 'tutti', 'i', 'dati', 'della', 'scheda', 'immobile', 'sono', 'reali', 'e', 'certificabili.', 'Innanzitutto', 'lo', 'è', 'la', 'superficie', 'commerciale', 'definita', 'in', 'accordo', 'al', 'protocollo', 'di', 'calcolo', \"dell'Osservatorio\", 'del', 'Mercato', 'Immobiliare', \"dell'Agenzia\", 'delle', 'Entrate', '(riferimento:', 'determinazione', 'consistenza);', 'la', 'documentazione', \"dell'immobile\", 'è', 'completa', 'e', 'visionabile.', 'Nello', 'specifico', 'sono', 'disponibili', 'su', 'richiesta:', 'visura', 'catastale,', 'planimetria', 'catastale,', 'certificazione', 'energetica', 'e,', 'solo', 'per', 'le', 'vendite,', 'visura', 'ipotecaria;', 'in', 'qualità', 'di', 'Operatore', 'Professionale', 'si', 'assisterà', 'il', 'cliente', 'dalle', 'verifiche', 'preliminari', \"dell'immobile\", 'sino', 'alla', 'stipula', \"dell'atto\", 'notarile', 'o', 'del', 'contratto', 'di', 'locazione,', 'in', 'modo', 'da', 'essere', 'al', 'suo', 'fianco', 'fino', 'al', 'completamento', \"dell'operazione\", 'immobiliare.']\n",
      "['×Close', 'Immobile', 'garantito', 'Home', 'Agency', 'desidera', 'prendersi', \"l'impegno\", 'di', 'mettere', 'a', 'disposizione', 'dei', 'propri', 'clienti', 'la', 'sua', 'professionalità', 'e', 'competenza', 'in', 'un', 'momento', 'così', 'importante', 'come', 'la', 'scelta', 'della', 'tua', 'nuova', 'casa.', 'Questo', 'impegno', 'è', 'formalizzato', 'in:', 'tutti', 'i', 'dati', 'della', 'scheda', 'immobile', 'sono', 'reali', 'e', 'certificabili.', 'Innanzitutto', 'lo', 'è', 'la', 'superficie', 'commerciale', 'definita', 'in', 'accordo', 'al', 'protocollo', 'di', 'calcolo', \"dell'Osservatorio\", 'del', 'Mercato', 'Immobiliare', \"dell'Agenzia\", 'delle', 'Entrate', '(riferimento:', 'determinazione', 'consistenza);', 'la', 'documentazione', \"dell'immobile\", 'è', 'completa', 'e', 'visionabile.', 'Nello', 'specifico', 'sono', 'disponibili', 'su', 'richiesta:', 'visura', 'catastale,', 'planimetria', 'catastale,', 'certificazione', 'energetica', 'e,', 'solo', 'per', 'le', 'vendite,', 'visura', 'ipotecaria;', 'in', 'qualità', 'di', 'Operatore', 'Professionale', 'si', 'assisterà', 'il', 'cliente', 'dalle', 'verifiche', 'preliminari', \"dell'immobile\", 'sino', 'alla', 'stipula', \"dell'atto\", 'notarile', 'o', 'del', 'contratto', 'di', 'locazione,', 'in', 'modo', 'da', 'essere', 'al', 'suo', 'fianco', 'fino', 'al', 'completamento', \"dell'operazione\", 'immobiliare.']\n",
      "['×Close', 'Immobile', 'garantito', 'Home', 'Agency', 'desidera', 'prendersi', \"l'impegno\", 'di', 'mettere', 'a', 'disposizione', 'dei', 'propri', 'clienti', 'la', 'sua', 'professionalità', 'e', 'competenza', 'in', 'un', 'momento', 'così', 'importante', 'come', 'la', 'scelta', 'della', 'tua', 'nuova', 'casa.', 'Questo', 'impegno', 'è', 'formalizzato', 'in:', 'tutti', 'i', 'dati', 'della', 'scheda', 'immobile', 'sono', 'reali', 'e', 'certificabili.', 'Innanzitutto', 'lo', 'è', 'la', 'superficie', 'commerciale', 'definita', 'in', 'accordo', 'al', 'protocollo', 'di', 'calcolo', \"dell'Osservatorio\", 'del', 'Mercato', 'Immobiliare', \"dell'Agenzia\", 'delle', 'Entrate', '(riferimento:', 'determinazione', 'consistenza);', 'la', 'documentazione', \"dell'immobile\", 'è', 'completa', 'e', 'visionabile.', 'Nello', 'specifico', 'sono', 'disponibili', 'su', 'richiesta:', 'visura', 'catastale,', 'planimetria', 'catastale,', 'certificazione', 'energetica', 'e,', 'solo', 'per', 'le', 'vendite,', 'visura', 'ipotecaria;', 'in', 'qualità', 'di', 'Operatore', 'Professionale', 'si', 'assisterà', 'il', 'cliente', 'dalle', 'verifiche', 'preliminari', \"dell'immobile\", 'sino', 'alla', 'stipula', \"dell'atto\", 'notarile', 'o', 'del', 'contratto', 'di', 'locazione,', 'in', 'modo', 'da', 'essere', 'al', 'suo', 'fianco', 'fino', 'al', 'completamento', \"dell'operazione\", 'immobiliare.']\n",
      "['Home', 'Agency', 'desidera', 'prendersi', \"l'impegno\", 'di', 'mettere', 'a', 'disposizione', 'dei', 'propri', 'clienti', 'la', 'sua', 'professionalità', 'e', 'competenza', 'in', 'un', 'momento', 'così', 'importante', 'come', 'la', 'scelta', 'della', 'tua', 'nuova', 'casa.', 'Questo', 'impegno', 'è', 'formalizzato', 'in:', 'tutti', 'i', 'dati', 'della', 'scheda', 'immobile', 'sono', 'reali', 'e', 'certificabili.', 'Innanzitutto', 'lo', 'è', 'la', 'superficie', 'commerciale', 'definita', 'in', 'accordo', 'al', 'protocollo', 'di', 'calcolo', \"dell'Osservatorio\", 'del', 'Mercato', 'Immobiliare', \"dell'Agenzia\", 'delle', 'Entrate', '(riferimento:', 'determinazione', 'consistenza);', 'la', 'documentazione', \"dell'immobile\", 'è', 'completa', 'e', 'visionabile.', 'Nello', 'specifico', 'sono', 'disponibili', 'su', 'richiesta:', 'visura', 'catastale,', 'planimetria', 'catastale,', 'certificazione', 'energetica', 'e,', 'solo', 'per', 'le', 'vendite,', 'visura', 'ipotecaria;', 'in', 'qualità', 'di', 'Operatore', 'Professionale', 'si', 'assisterà', 'il', 'cliente', 'dalle', 'verifiche', 'preliminari', \"dell'immobile\", 'sino', 'alla', 'stipula', \"dell'atto\", 'notarile', 'o', 'del', 'contratto', 'di', 'locazione,', 'in', 'modo', 'da', 'essere', 'al', 'suo', 'fianco', 'fino', 'al', 'completamento', \"dell'operazione\", 'immobiliare.']\n",
      "['Home', 'Agency', 'desidera', 'prendersi', \"l'impegno\", 'di', 'mettere', 'a', 'disposizione', 'dei', 'propri', 'clienti', 'la', 'sua', 'professionalità', 'e', 'competenza', 'in', 'un', 'momento', 'così', 'importante', 'come', 'la', 'scelta', 'della', 'tua', 'nuova', 'casa.', 'Questo', 'impegno', 'è', 'formalizzato', 'in:', 'tutti', 'i', 'dati', 'della', 'scheda', 'immobile', 'sono', 'reali', 'e', 'certificabili.', 'Innanzitutto', 'lo', 'è', 'la', 'superficie', 'commerciale', 'definita', 'in', 'accordo', 'al', 'protocollo', 'di', 'calcolo', \"dell'Osservatorio\", 'del', 'Mercato', 'Immobiliare', \"dell'Agenzia\", 'delle', 'Entrate', '(riferimento:', 'determinazione', 'consistenza);', 'la', 'documentazione', \"dell'immobile\", 'è', 'completa', 'e', 'visionabile.', 'Nello', 'specifico', 'sono', 'disponibili', 'su', 'richiesta:', 'visura', 'catastale,', 'planimetria', 'catastale,', 'certificazione', 'energetica', 'e,', 'solo', 'per', 'le', 'vendite,', 'visura', 'ipotecaria;', 'in', 'qualità', 'di', 'Operatore', 'Professionale', 'si', 'assisterà', 'il', 'cliente', 'dalle', 'verifiche', 'preliminari', \"dell'immobile\", 'sino', 'alla', 'stipula', \"dell'atto\", 'notarile', 'o', 'del', 'contratto', 'di', 'locazione,', 'in', 'modo', 'da', 'essere', 'al', 'suo', 'fianco', 'fino', 'al', 'completamento', \"dell'operazione\", 'immobiliare.']\n",
      "change\n"
     ]
    },
    {
     "name": "stdout",
     "output_type": "stream",
     "text": [
      "['Mob', '392', '9999666', 'Mob', '349', '2250729', '-', '347', '710192', 'Acquisto', 'assistito', 'in', 'Asta', 'Giudiziaria', '-', 'Referente', 'procedura', 'Mob.', '392', '9999666', '-', 'Mob.', '349', '2250729', '-', '347', '7101929', '-', 'www.homeagency.it', '-', 'Valore', 'commerciale', '€', '240.000,00', 'IMMOBILE', 'LIBERO', 'AL', 'DECRETO', 'DI', 'TRASFERIMENTO', 'UBICAZIONE', 'E', \"REGOLARITA'\", 'URBANISTICA:', '•', 'Costruzione', 'Ante', '\"67', '•', 'Costruita', 'con', 'regolare', 'Concessione', 'Edilizia', '•', 'DIA', 'Ristrutturazione', 'Edilizia', 'e', 'cambio', 'destinazione', 'da', 'magazzino', 'ad', 'abitazione', '2008', '•', 'Richiesta', 'proroga', 'termini', 'ultimazione', 'lavori', '2012', 'Via', 'Travallino,', '1', '-', 'BARICELLA', 'frazione', 'Cittadella', '•', 'Piano', 'Interrato:', 'cantina,', 'disimpegno,', 'ripostiglio,', 'bagno,', 'lavanderia.', 'Mq', '80,00', '•', 'Piano', 'Terra:', 'ingresso', 'su', 'soggiorno,', 'cucina,', 'disimpegno,', 'bagno,', 'due', 'camere.', 'Mq', '80,00', '•', 'Piano', 'Soppalco:', 'bagno,', 'ripostiglio.', 'Mq', '29,20', '•', 'Piano', 'Terra:', 'area', 'cortiliva', 'esclusiva.', 'Mq', '500,00', 'Il', 'nostro', 'studio', 'offre', 'la', 'completa', 'assistenza', 'per', \"l'acquisto\", 'in', 'Asta', 'anche', 'tramite', 'MUTUI', 'BANCARI.', 'Assiste', 'ed', 'indirizza,', \"dall'aggiudicazione\", 'fino', 'alla', 'consegna', 'delle', 'chiavi.', 'POLIZZA', 'ASSICURATIVA:', 'Acquista', 'in', 'asta', 'in', 'serenità', 'assicurando', 'il', 'tuo', 'immobile,', 'chiedi', 'un', 'preventivo', 'per', 'una', 'polizza', 'assicurativa', 'contro', 'furto', 'e', 'danni,', 'i', 'nostri', 'consulenti', 'ti', 'sapranno', 'dare', 'le', 'giuste', 'indicazioni.', 'Per', 'un', 'acquisto', 'sicuro', 'e', 'sereno', 'garantisci', 'integralmente', 'il', 'trasferimento', \"dell'immobile\", 'nella', 'sua', 'integrità.', 'HOME', 'AGENCY', 'Referente', 'procedura', 'Mob.', '392', '9999666', '-', 'Mob.', '349', '2250729', '-', '347', '7101929', 'I', 'nostri', 'studi', 'previo', 'appuntamento:', 'BOLOGNA', '(BO)', 'via', 'della', 'Ferriera,', '8/2', 'POMEZIA', '(RM)', 'via', 'Luciano', 'Manara', '5', 'ROMA', '(RM)', '\"Prati\"', '-', 'via', 'Premuda,', '3', 'Leggi', 'tutto']\n",
      "['×Close', 'Immobile', 'garantito', 'Home', 'Agency', 'desidera', 'prendersi', \"l'impegno\", 'di', 'mettere', 'a', 'disposizione', 'dei', 'propri', 'clienti', 'la', 'sua', 'professionalità', 'e', 'competenza', 'in', 'un', 'momento', 'così', 'importante', 'come', 'la', 'scelta', 'della', 'tua', 'nuova', 'casa.', 'Questo', 'impegno', 'è', 'formalizzato', 'in:', 'tutti', 'i', 'dati', 'della', 'scheda', 'immobile', 'sono', 'reali', 'e', 'certificabili.', 'Innanzitutto', 'lo', 'è', 'la', 'superficie', 'commerciale', 'definita', 'in', 'accordo', 'al', 'protocollo', 'di', 'calcolo', \"dell'Osservatorio\", 'del', 'Mercato', 'Immobiliare', \"dell'Agenzia\", 'delle', 'Entrate', '(riferimento:', 'determinazione', 'consistenza);', 'la', 'documentazione', \"dell'immobile\", 'è', 'completa', 'e', 'visionabile.', 'Nello', 'specifico', 'sono', 'disponibili', 'su', 'richiesta:', 'visura', 'catastale,', 'planimetria', 'catastale,', 'certificazione', 'energetica', 'e,', 'solo', 'per', 'le', 'vendite,', 'visura', 'ipotecaria;', 'in', 'qualità', 'di', 'Operatore', 'Professionale', 'si', 'assisterà', 'il', 'cliente', 'dalle', 'verifiche', 'preliminari', \"dell'immobile\", 'sino', 'alla', 'stipula', \"dell'atto\", 'notarile', 'o', 'del', 'contratto', 'di', 'locazione,', 'in', 'modo', 'da', 'essere', 'al', 'suo', 'fianco', 'fino', 'al', 'completamento', \"dell'operazione\", 'immobiliare.']\n",
      "['×Close', 'Immobile', 'garantito', 'Home', 'Agency', 'desidera', 'prendersi', \"l'impegno\", 'di', 'mettere', 'a', 'disposizione', 'dei', 'propri', 'clienti', 'la', 'sua', 'professionalità', 'e', 'competenza', 'in', 'un', 'momento', 'così', 'importante', 'come', 'la', 'scelta', 'della', 'tua', 'nuova', 'casa.', 'Questo', 'impegno', 'è', 'formalizzato', 'in:', 'tutti', 'i', 'dati', 'della', 'scheda', 'immobile', 'sono', 'reali', 'e', 'certificabili.', 'Innanzitutto', 'lo', 'è', 'la', 'superficie', 'commerciale', 'definita', 'in', 'accordo', 'al', 'protocollo', 'di', 'calcolo', \"dell'Osservatorio\", 'del', 'Mercato', 'Immobiliare', \"dell'Agenzia\", 'delle', 'Entrate', '(riferimento:', 'determinazione', 'consistenza);', 'la', 'documentazione', \"dell'immobile\", 'è', 'completa', 'e', 'visionabile.', 'Nello', 'specifico', 'sono', 'disponibili', 'su', 'richiesta:', 'visura', 'catastale,', 'planimetria', 'catastale,', 'certificazione', 'energetica', 'e,', 'solo', 'per', 'le', 'vendite,', 'visura', 'ipotecaria;', 'in', 'qualità', 'di', 'Operatore', 'Professionale', 'si', 'assisterà', 'il', 'cliente', 'dalle', 'verifiche', 'preliminari', \"dell'immobile\", 'sino', 'alla', 'stipula', \"dell'atto\", 'notarile', 'o', 'del', 'contratto', 'di', 'locazione,', 'in', 'modo', 'da', 'essere', 'al', 'suo', 'fianco', 'fino', 'al', 'completamento', \"dell'operazione\", 'immobiliare.']\n",
      "['×Close', 'Immobile', 'garantito', 'Home', 'Agency', 'desidera', 'prendersi', \"l'impegno\", 'di', 'mettere', 'a', 'disposizione', 'dei', 'propri', 'clienti', 'la', 'sua', 'professionalità', 'e', 'competenza', 'in', 'un', 'momento', 'così', 'importante', 'come', 'la', 'scelta', 'della', 'tua', 'nuova', 'casa.', 'Questo', 'impegno', 'è', 'formalizzato', 'in:', 'tutti', 'i', 'dati', 'della', 'scheda', 'immobile', 'sono', 'reali', 'e', 'certificabili.', 'Innanzitutto', 'lo', 'è', 'la', 'superficie', 'commerciale', 'definita', 'in', 'accordo', 'al', 'protocollo', 'di', 'calcolo', \"dell'Osservatorio\", 'del', 'Mercato', 'Immobiliare', \"dell'Agenzia\", 'delle', 'Entrate', '(riferimento:', 'determinazione', 'consistenza);', 'la', 'documentazione', \"dell'immobile\", 'è', 'completa', 'e', 'visionabile.', 'Nello', 'specifico', 'sono', 'disponibili', 'su', 'richiesta:', 'visura', 'catastale,', 'planimetria', 'catastale,', 'certificazione', 'energetica', 'e,', 'solo', 'per', 'le', 'vendite,', 'visura', 'ipotecaria;', 'in', 'qualità', 'di', 'Operatore', 'Professionale', 'si', 'assisterà', 'il', 'cliente', 'dalle', 'verifiche', 'preliminari', \"dell'immobile\", 'sino', 'alla', 'stipula', \"dell'atto\", 'notarile', 'o', 'del', 'contratto', 'di', 'locazione,', 'in', 'modo', 'da', 'essere', 'al', 'suo', 'fianco', 'fino', 'al', 'completamento', \"dell'operazione\", 'immobiliare.']\n",
      "['×Close', 'Immobile', 'garantito', 'Home', 'Agency', 'desidera', 'prendersi', \"l'impegno\", 'di', 'mettere', 'a', 'disposizione', 'dei', 'propri', 'clienti', 'la', 'sua', 'professionalità', 'e', 'competenza', 'in', 'un', 'momento', 'così', 'importante', 'come', 'la', 'scelta', 'della', 'tua', 'nuova', 'casa.', 'Questo', 'impegno', 'è', 'formalizzato', 'in:', 'tutti', 'i', 'dati', 'della', 'scheda', 'immobile', 'sono', 'reali', 'e', 'certificabili.', 'Innanzitutto', 'lo', 'è', 'la', 'superficie', 'commerciale', 'definita', 'in', 'accordo', 'al', 'protocollo', 'di', 'calcolo', \"dell'Osservatorio\", 'del', 'Mercato', 'Immobiliare', \"dell'Agenzia\", 'delle', 'Entrate', '(riferimento:', 'determinazione', 'consistenza);', 'la', 'documentazione', \"dell'immobile\", 'è', 'completa', 'e', 'visionabile.', 'Nello', 'specifico', 'sono', 'disponibili', 'su', 'richiesta:', 'visura', 'catastale,', 'planimetria', 'catastale,', 'certificazione', 'energetica', 'e,', 'solo', 'per', 'le', 'vendite,', 'visura', 'ipotecaria;', 'in', 'qualità', 'di', 'Operatore', 'Professionale', 'si', 'assisterà', 'il', 'cliente', 'dalle', 'verifiche', 'preliminari', \"dell'immobile\", 'sino', 'alla', 'stipula', \"dell'atto\", 'notarile', 'o', 'del', 'contratto', 'di', 'locazione,', 'in', 'modo', 'da', 'essere', 'al', 'suo', 'fianco', 'fino', 'al', 'completamento', \"dell'operazione\", 'immobiliare.']\n",
      "['Home', 'Agency', 'desidera', 'prendersi', \"l'impegno\", 'di', 'mettere', 'a', 'disposizione', 'dei', 'propri', 'clienti', 'la', 'sua', 'professionalità', 'e', 'competenza', 'in', 'un', 'momento', 'così', 'importante', 'come', 'la', 'scelta', 'della', 'tua', 'nuova', 'casa.', 'Questo', 'impegno', 'è', 'formalizzato', 'in:', 'tutti', 'i', 'dati', 'della', 'scheda', 'immobile', 'sono', 'reali', 'e', 'certificabili.', 'Innanzitutto', 'lo', 'è', 'la', 'superficie', 'commerciale', 'definita', 'in', 'accordo', 'al', 'protocollo', 'di', 'calcolo', \"dell'Osservatorio\", 'del', 'Mercato', 'Immobiliare', \"dell'Agenzia\", 'delle', 'Entrate', '(riferimento:', 'determinazione', 'consistenza);', 'la', 'documentazione', \"dell'immobile\", 'è', 'completa', 'e', 'visionabile.', 'Nello', 'specifico', 'sono', 'disponibili', 'su', 'richiesta:', 'visura', 'catastale,', 'planimetria', 'catastale,', 'certificazione', 'energetica', 'e,', 'solo', 'per', 'le', 'vendite,', 'visura', 'ipotecaria;', 'in', 'qualità', 'di', 'Operatore', 'Professionale', 'si', 'assisterà', 'il', 'cliente', 'dalle', 'verifiche', 'preliminari', \"dell'immobile\", 'sino', 'alla', 'stipula', \"dell'atto\", 'notarile', 'o', 'del', 'contratto', 'di', 'locazione,', 'in', 'modo', 'da', 'essere', 'al', 'suo', 'fianco', 'fino', 'al', 'completamento', \"dell'operazione\", 'immobiliare.']\n",
      "['Home', 'Agency', 'desidera', 'prendersi', \"l'impegno\", 'di', 'mettere', 'a', 'disposizione', 'dei', 'propri', 'clienti', 'la', 'sua', 'professionalità', 'e', 'competenza', 'in', 'un', 'momento', 'così', 'importante', 'come', 'la', 'scelta', 'della', 'tua', 'nuova', 'casa.', 'Questo', 'impegno', 'è', 'formalizzato', 'in:', 'tutti', 'i', 'dati', 'della', 'scheda', 'immobile', 'sono', 'reali', 'e', 'certificabili.', 'Innanzitutto', 'lo', 'è', 'la', 'superficie', 'commerciale', 'definita', 'in', 'accordo', 'al', 'protocollo', 'di', 'calcolo', \"dell'Osservatorio\", 'del', 'Mercato', 'Immobiliare', \"dell'Agenzia\", 'delle', 'Entrate', '(riferimento:', 'determinazione', 'consistenza);', 'la', 'documentazione', \"dell'immobile\", 'è', 'completa', 'e', 'visionabile.', 'Nello', 'specifico', 'sono', 'disponibili', 'su', 'richiesta:', 'visura', 'catastale,', 'planimetria', 'catastale,', 'certificazione', 'energetica', 'e,', 'solo', 'per', 'le', 'vendite,', 'visura', 'ipotecaria;', 'in', 'qualità', 'di', 'Operatore', 'Professionale', 'si', 'assisterà', 'il', 'cliente', 'dalle', 'verifiche', 'preliminari', \"dell'immobile\", 'sino', 'alla', 'stipula', \"dell'atto\", 'notarile', 'o', 'del', 'contratto', 'di', 'locazione,', 'in', 'modo', 'da', 'essere', 'al', 'suo', 'fianco', 'fino', 'al', 'completamento', \"dell'operazione\", 'immobiliare.']\n",
      "change\n"
     ]
    },
    {
     "name": "stdout",
     "output_type": "stream",
     "text": [
      "['Mob', '392', '9999666', 'Mob', '349', '2250729', '-', '347', '7101929', 'Acquisto', 'assistito', 'in', 'Asta', 'Giudiziaria', '-', 'Referente', 'procedura', 'Mob.', '392', '9999666', '-', 'Mob.', '349', '2250729', '-', '347', '7101929', '-', 'www.homeagency.it', '-', 'Valore', 'commerciale', '€', '200.000,00', 'IMMOBILE', 'LIBERO', 'AL', 'DECRETO', 'DI', 'TRASFERIMENTO', 'UBICAZIONE', 'E', \"REGOLARITA'\", 'URBANISTICA:', '•', 'Costruzione', 'Ante', '\"67', '•', 'Costruita', 'con', 'regolare', 'Concessione', 'Edilizia', '1956', '•', 'Certificato', 'Abitabilità', 'e', 'Usabilità', '1957', 'Via', 'Cavallieri', 'Ducati,', '8', '-', 'BOLOGNA', 'quartiere', 'Borgo', 'Panigale', '(BO)', '•', 'Piano', 'Terzo:', 'ingresso,', 'soggiorno/pranzo,', 'cucinotto', 'con', 'balcone,', 'disimpegno,', 'ripostiglio,', 'bagno,', 'due', 'camere.', 'Mq', '80,00', 'Il', 'nostro', 'studio', 'offre', 'la', 'completa', 'assistenza', 'per', \"l'acquisto\", 'in', 'Asta', 'anche', 'tramite', 'MUTUI', 'BANCARI.', 'Assiste', 'ed', 'indirizza,', \"dall'aggiudicazione\", 'fino', 'alla', 'consegna', 'delle', 'chiavi.', 'POLIZZA', 'ASSICURATIVA:', 'Acquista', 'in', 'asta', 'in', 'serenità', 'assicurando', 'il', 'tuo', 'immobile,', 'chiedi', 'un', 'preventivo', 'per', 'una', 'polizza', 'assicurativa', 'contro', 'furto', 'e', 'danni,', 'i', 'nostri', 'consulenti', 'ti', 'sapranno', 'dare', 'le', 'giuste', 'indicazioni.', 'Per', 'un', 'acquisto', 'sicuro', 'e', 'sereno', 'garantisci', 'integralmente', 'il', 'trasferimento', \"dell'immobile\", 'nella', 'sua', 'integrità.', 'HOME', 'AGENCY', 'Referente', 'procedura', 'Mob.', '392', '9999666', '-', 'Mob.', '349', '2250729', '-', '347', '7101929', 'I', 'nostri', 'studi', 'previo', 'appuntamento:', 'BOLOGNA', '(BO)', 'via', 'della', 'Ferriera,', '8/2', 'POMEZIA', '(RM)', 'via', 'Luciano', 'Manara', '5', 'ROMA', '(RM)', '\"Prati\"', '-', 'via', 'Premuda,', '3', 'Leggi', 'tutto']\n",
      "['×Close', 'Immobile', 'garantito', 'Home', 'Agency', 'desidera', 'prendersi', \"l'impegno\", 'di', 'mettere', 'a', 'disposizione', 'dei', 'propri', 'clienti', 'la', 'sua', 'professionalità', 'e', 'competenza', 'in', 'un', 'momento', 'così', 'importante', 'come', 'la', 'scelta', 'della', 'tua', 'nuova', 'casa.', 'Questo', 'impegno', 'è', 'formalizzato', 'in:', 'tutti', 'i', 'dati', 'della', 'scheda', 'immobile', 'sono', 'reali', 'e', 'certificabili.', 'Innanzitutto', 'lo', 'è', 'la', 'superficie', 'commerciale', 'definita', 'in', 'accordo', 'al', 'protocollo', 'di', 'calcolo', \"dell'Osservatorio\", 'del', 'Mercato', 'Immobiliare', \"dell'Agenzia\", 'delle', 'Entrate', '(riferimento:', 'determinazione', 'consistenza);', 'la', 'documentazione', \"dell'immobile\", 'è', 'completa', 'e', 'visionabile.', 'Nello', 'specifico', 'sono', 'disponibili', 'su', 'richiesta:', 'visura', 'catastale,', 'planimetria', 'catastale,', 'certificazione', 'energetica', 'e,', 'solo', 'per', 'le', 'vendite,', 'visura', 'ipotecaria;', 'in', 'qualità', 'di', 'Operatore', 'Professionale', 'si', 'assisterà', 'il', 'cliente', 'dalle', 'verifiche', 'preliminari', \"dell'immobile\", 'sino', 'alla', 'stipula', \"dell'atto\", 'notarile', 'o', 'del', 'contratto', 'di', 'locazione,', 'in', 'modo', 'da', 'essere', 'al', 'suo', 'fianco', 'fino', 'al', 'completamento', \"dell'operazione\", 'immobiliare.']\n",
      "['×Close', 'Immobile', 'garantito', 'Home', 'Agency', 'desidera', 'prendersi', \"l'impegno\", 'di', 'mettere', 'a', 'disposizione', 'dei', 'propri', 'clienti', 'la', 'sua', 'professionalità', 'e', 'competenza', 'in', 'un', 'momento', 'così', 'importante', 'come', 'la', 'scelta', 'della', 'tua', 'nuova', 'casa.', 'Questo', 'impegno', 'è', 'formalizzato', 'in:', 'tutti', 'i', 'dati', 'della', 'scheda', 'immobile', 'sono', 'reali', 'e', 'certificabili.', 'Innanzitutto', 'lo', 'è', 'la', 'superficie', 'commerciale', 'definita', 'in', 'accordo', 'al', 'protocollo', 'di', 'calcolo', \"dell'Osservatorio\", 'del', 'Mercato', 'Immobiliare', \"dell'Agenzia\", 'delle', 'Entrate', '(riferimento:', 'determinazione', 'consistenza);', 'la', 'documentazione', \"dell'immobile\", 'è', 'completa', 'e', 'visionabile.', 'Nello', 'specifico', 'sono', 'disponibili', 'su', 'richiesta:', 'visura', 'catastale,', 'planimetria', 'catastale,', 'certificazione', 'energetica', 'e,', 'solo', 'per', 'le', 'vendite,', 'visura', 'ipotecaria;', 'in', 'qualità', 'di', 'Operatore', 'Professionale', 'si', 'assisterà', 'il', 'cliente', 'dalle', 'verifiche', 'preliminari', \"dell'immobile\", 'sino', 'alla', 'stipula', \"dell'atto\", 'notarile', 'o', 'del', 'contratto', 'di', 'locazione,', 'in', 'modo', 'da', 'essere', 'al', 'suo', 'fianco', 'fino', 'al', 'completamento', \"dell'operazione\", 'immobiliare.']\n",
      "['×Close', 'Immobile', 'garantito', 'Home', 'Agency', 'desidera', 'prendersi', \"l'impegno\", 'di', 'mettere', 'a', 'disposizione', 'dei', 'propri', 'clienti', 'la', 'sua', 'professionalità', 'e', 'competenza', 'in', 'un', 'momento', 'così', 'importante', 'come', 'la', 'scelta', 'della', 'tua', 'nuova', 'casa.', 'Questo', 'impegno', 'è', 'formalizzato', 'in:', 'tutti', 'i', 'dati', 'della', 'scheda', 'immobile', 'sono', 'reali', 'e', 'certificabili.', 'Innanzitutto', 'lo', 'è', 'la', 'superficie', 'commerciale', 'definita', 'in', 'accordo', 'al', 'protocollo', 'di', 'calcolo', \"dell'Osservatorio\", 'del', 'Mercato', 'Immobiliare', \"dell'Agenzia\", 'delle', 'Entrate', '(riferimento:', 'determinazione', 'consistenza);', 'la', 'documentazione', \"dell'immobile\", 'è', 'completa', 'e', 'visionabile.', 'Nello', 'specifico', 'sono', 'disponibili', 'su', 'richiesta:', 'visura', 'catastale,', 'planimetria', 'catastale,', 'certificazione', 'energetica', 'e,', 'solo', 'per', 'le', 'vendite,', 'visura', 'ipotecaria;', 'in', 'qualità', 'di', 'Operatore', 'Professionale', 'si', 'assisterà', 'il', 'cliente', 'dalle', 'verifiche', 'preliminari', \"dell'immobile\", 'sino', 'alla', 'stipula', \"dell'atto\", 'notarile', 'o', 'del', 'contratto', 'di', 'locazione,', 'in', 'modo', 'da', 'essere', 'al', 'suo', 'fianco', 'fino', 'al', 'completamento', \"dell'operazione\", 'immobiliare.']\n",
      "['×Close', 'Immobile', 'garantito', 'Home', 'Agency', 'desidera', 'prendersi', \"l'impegno\", 'di', 'mettere', 'a', 'disposizione', 'dei', 'propri', 'clienti', 'la', 'sua', 'professionalità', 'e', 'competenza', 'in', 'un', 'momento', 'così', 'importante', 'come', 'la', 'scelta', 'della', 'tua', 'nuova', 'casa.', 'Questo', 'impegno', 'è', 'formalizzato', 'in:', 'tutti', 'i', 'dati', 'della', 'scheda', 'immobile', 'sono', 'reali', 'e', 'certificabili.', 'Innanzitutto', 'lo', 'è', 'la', 'superficie', 'commerciale', 'definita', 'in', 'accordo', 'al', 'protocollo', 'di', 'calcolo', \"dell'Osservatorio\", 'del', 'Mercato', 'Immobiliare', \"dell'Agenzia\", 'delle', 'Entrate', '(riferimento:', 'determinazione', 'consistenza);', 'la', 'documentazione', \"dell'immobile\", 'è', 'completa', 'e', 'visionabile.', 'Nello', 'specifico', 'sono', 'disponibili', 'su', 'richiesta:', 'visura', 'catastale,', 'planimetria', 'catastale,', 'certificazione', 'energetica', 'e,', 'solo', 'per', 'le', 'vendite,', 'visura', 'ipotecaria;', 'in', 'qualità', 'di', 'Operatore', 'Professionale', 'si', 'assisterà', 'il', 'cliente', 'dalle', 'verifiche', 'preliminari', \"dell'immobile\", 'sino', 'alla', 'stipula', \"dell'atto\", 'notarile', 'o', 'del', 'contratto', 'di', 'locazione,', 'in', 'modo', 'da', 'essere', 'al', 'suo', 'fianco', 'fino', 'al', 'completamento', \"dell'operazione\", 'immobiliare.']\n",
      "['Home', 'Agency', 'desidera', 'prendersi', \"l'impegno\", 'di', 'mettere', 'a', 'disposizione', 'dei', 'propri', 'clienti', 'la', 'sua', 'professionalità', 'e', 'competenza', 'in', 'un', 'momento', 'così', 'importante', 'come', 'la', 'scelta', 'della', 'tua', 'nuova', 'casa.', 'Questo', 'impegno', 'è', 'formalizzato', 'in:', 'tutti', 'i', 'dati', 'della', 'scheda', 'immobile', 'sono', 'reali', 'e', 'certificabili.', 'Innanzitutto', 'lo', 'è', 'la', 'superficie', 'commerciale', 'definita', 'in', 'accordo', 'al', 'protocollo', 'di', 'calcolo', \"dell'Osservatorio\", 'del', 'Mercato', 'Immobiliare', \"dell'Agenzia\", 'delle', 'Entrate', '(riferimento:', 'determinazione', 'consistenza);', 'la', 'documentazione', \"dell'immobile\", 'è', 'completa', 'e', 'visionabile.', 'Nello', 'specifico', 'sono', 'disponibili', 'su', 'richiesta:', 'visura', 'catastale,', 'planimetria', 'catastale,', 'certificazione', 'energetica', 'e,', 'solo', 'per', 'le', 'vendite,', 'visura', 'ipotecaria;', 'in', 'qualità', 'di', 'Operatore', 'Professionale', 'si', 'assisterà', 'il', 'cliente', 'dalle', 'verifiche', 'preliminari', \"dell'immobile\", 'sino', 'alla', 'stipula', \"dell'atto\", 'notarile', 'o', 'del', 'contratto', 'di', 'locazione,', 'in', 'modo', 'da', 'essere', 'al', 'suo', 'fianco', 'fino', 'al', 'completamento', \"dell'operazione\", 'immobiliare.']\n",
      "['Home', 'Agency', 'desidera', 'prendersi', \"l'impegno\", 'di', 'mettere', 'a', 'disposizione', 'dei', 'propri', 'clienti', 'la', 'sua', 'professionalità', 'e', 'competenza', 'in', 'un', 'momento', 'così', 'importante', 'come', 'la', 'scelta', 'della', 'tua', 'nuova', 'casa.', 'Questo', 'impegno', 'è', 'formalizzato', 'in:', 'tutti', 'i', 'dati', 'della', 'scheda', 'immobile', 'sono', 'reali', 'e', 'certificabili.', 'Innanzitutto', 'lo', 'è', 'la', 'superficie', 'commerciale', 'definita', 'in', 'accordo', 'al', 'protocollo', 'di', 'calcolo', \"dell'Osservatorio\", 'del', 'Mercato', 'Immobiliare', \"dell'Agenzia\", 'delle', 'Entrate', '(riferimento:', 'determinazione', 'consistenza);', 'la', 'documentazione', \"dell'immobile\", 'è', 'completa', 'e', 'visionabile.', 'Nello', 'specifico', 'sono', 'disponibili', 'su', 'richiesta:', 'visura', 'catastale,', 'planimetria', 'catastale,', 'certificazione', 'energetica', 'e,', 'solo', 'per', 'le', 'vendite,', 'visura', 'ipotecaria;', 'in', 'qualità', 'di', 'Operatore', 'Professionale', 'si', 'assisterà', 'il', 'cliente', 'dalle', 'verifiche', 'preliminari', \"dell'immobile\", 'sino', 'alla', 'stipula', \"dell'atto\", 'notarile', 'o', 'del', 'contratto', 'di', 'locazione,', 'in', 'modo', 'da', 'essere', 'al', 'suo', 'fianco', 'fino', 'al', 'completamento', \"dell'operazione\", 'immobiliare.']\n",
      "change\n"
     ]
    },
    {
     "name": "stdout",
     "output_type": "stream",
     "text": [
      "['Mob', '392', '9999666', 'Mob', '349', '2250729', '-', '347', '7101929', 'Acquisto', 'assistito', 'in', 'Asta', 'Giudiziaria', '-', 'Referente', 'procedura', 'Mob.', '392', '9999666', '-', 'Mob.', '349', '2250729', '-', '347', '7101929', '-', 'www.homeagency.it', '-', 'Valore', 'commerciale', '€', '160.000,00', 'IMMOBILE', 'LIBERO', 'AL', 'DECRETO', 'DI', 'TRASFERIMENTO', 'UBICAZIONE', 'E', \"REGOLARITA'\", 'URBANISTICA:', '•', 'Costruzione', 'Ante', '\"67', '•', 'Costruita', 'con', 'regolare', 'Concessione', 'Edilizia', '•', 'Comunicazione', 'inizio', 'lavori', 'manutenzione', '1995', 'Via', 'Circonvallazione', 'Est,', '10', '-', 'CASTELLO', \"D'ARGILE\", '(BO)', '•', 'Piano', 'Secondo:', 'ingresso,', 'soggiorno', 'con', 'angolo', 'cottura,', 'disimpegno,', 'bagno,', 'due', 'camere.', 'Mq', '69,00', '•', 'Piano', 'Secondo:', 'balcone.', 'Mq', '3,00', '•', 'Piano', 'Seminterrato:', 'cantina.', 'Mq', '8,00', 'Il', 'nostro', 'studio', 'offre', 'la', 'completa', 'assistenza', 'per', \"l'acquisto\", 'in', 'Asta', 'anche', 'tramite', 'MUTUI', 'BANCARI.', 'Assiste', 'ed', 'indirizza,', \"dall'aggiudicazione\", 'fino', 'alla', 'consegna', 'delle', 'chiavi.', 'POLIZZA', 'ASSICURATIVA:', 'Acquista', 'in', 'asta', 'in', 'serenità', 'assicurando', 'il', 'tuo', 'immobile,', 'chiedi', 'un', 'preventivo', 'per', 'una', 'polizza', 'assicurativa', 'contro', 'furto', 'e', 'danni,', 'i', 'nostri', 'consulenti', 'ti', 'sapranno', 'dare', 'le', 'giuste', 'indicazioni.', 'Per', 'un', 'acquisto', 'sicuro', 'e', 'sereno', 'garantisci', 'integralmente', 'il', 'trasferimento', \"dell'immobile\", 'nella', 'sua', 'integrità.', 'HOME', 'AGENCY', 'Referente', 'procedura', 'Mob.', '392', '9999666', '-', 'Mob.', '349', '2250729', '-', '347', '7101929', 'I', 'nostri', 'studi', 'previo', 'appuntamento:', 'BOLOGNA', '(BO)', 'via', 'della', 'Ferriera,', '8/2', 'POMEZIA', '(RM)', 'via', 'Luciano', 'Manara', '5', 'ROMA', '(RM)', '\"Prati\"', '-', 'via', 'Premuda,', '3', 'Leggi', 'tutto']\n",
      "['×Close', 'Immobile', 'garantito', 'Home', 'Agency', 'desidera', 'prendersi', \"l'impegno\", 'di', 'mettere', 'a', 'disposizione', 'dei', 'propri', 'clienti', 'la', 'sua', 'professionalità', 'e', 'competenza', 'in', 'un', 'momento', 'così', 'importante', 'come', 'la', 'scelta', 'della', 'tua', 'nuova', 'casa.', 'Questo', 'impegno', 'è', 'formalizzato', 'in:', 'tutti', 'i', 'dati', 'della', 'scheda', 'immobile', 'sono', 'reali', 'e', 'certificabili.', 'Innanzitutto', 'lo', 'è', 'la', 'superficie', 'commerciale', 'definita', 'in', 'accordo', 'al', 'protocollo', 'di', 'calcolo', \"dell'Osservatorio\", 'del', 'Mercato', 'Immobiliare', \"dell'Agenzia\", 'delle', 'Entrate', '(riferimento:', 'determinazione', 'consistenza);', 'la', 'documentazione', \"dell'immobile\", 'è', 'completa', 'e', 'visionabile.', 'Nello', 'specifico', 'sono', 'disponibili', 'su', 'richiesta:', 'visura', 'catastale,', 'planimetria', 'catastale,', 'certificazione', 'energetica', 'e,', 'solo', 'per', 'le', 'vendite,', 'visura', 'ipotecaria;', 'in', 'qualità', 'di', 'Operatore', 'Professionale', 'si', 'assisterà', 'il', 'cliente', 'dalle', 'verifiche', 'preliminari', \"dell'immobile\", 'sino', 'alla', 'stipula', \"dell'atto\", 'notarile', 'o', 'del', 'contratto', 'di', 'locazione,', 'in', 'modo', 'da', 'essere', 'al', 'suo', 'fianco', 'fino', 'al', 'completamento', \"dell'operazione\", 'immobiliare.']\n",
      "['×Close', 'Immobile', 'garantito', 'Home', 'Agency', 'desidera', 'prendersi', \"l'impegno\", 'di', 'mettere', 'a', 'disposizione', 'dei', 'propri', 'clienti', 'la', 'sua', 'professionalità', 'e', 'competenza', 'in', 'un', 'momento', 'così', 'importante', 'come', 'la', 'scelta', 'della', 'tua', 'nuova', 'casa.', 'Questo', 'impegno', 'è', 'formalizzato', 'in:', 'tutti', 'i', 'dati', 'della', 'scheda', 'immobile', 'sono', 'reali', 'e', 'certificabili.', 'Innanzitutto', 'lo', 'è', 'la', 'superficie', 'commerciale', 'definita', 'in', 'accordo', 'al', 'protocollo', 'di', 'calcolo', \"dell'Osservatorio\", 'del', 'Mercato', 'Immobiliare', \"dell'Agenzia\", 'delle', 'Entrate', '(riferimento:', 'determinazione', 'consistenza);', 'la', 'documentazione', \"dell'immobile\", 'è', 'completa', 'e', 'visionabile.', 'Nello', 'specifico', 'sono', 'disponibili', 'su', 'richiesta:', 'visura', 'catastale,', 'planimetria', 'catastale,', 'certificazione', 'energetica', 'e,', 'solo', 'per', 'le', 'vendite,', 'visura', 'ipotecaria;', 'in', 'qualità', 'di', 'Operatore', 'Professionale', 'si', 'assisterà', 'il', 'cliente', 'dalle', 'verifiche', 'preliminari', \"dell'immobile\", 'sino', 'alla', 'stipula', \"dell'atto\", 'notarile', 'o', 'del', 'contratto', 'di', 'locazione,', 'in', 'modo', 'da', 'essere', 'al', 'suo', 'fianco', 'fino', 'al', 'completamento', \"dell'operazione\", 'immobiliare.']\n",
      "['×Close', 'Immobile', 'garantito', 'Home', 'Agency', 'desidera', 'prendersi', \"l'impegno\", 'di', 'mettere', 'a', 'disposizione', 'dei', 'propri', 'clienti', 'la', 'sua', 'professionalità', 'e', 'competenza', 'in', 'un', 'momento', 'così', 'importante', 'come', 'la', 'scelta', 'della', 'tua', 'nuova', 'casa.', 'Questo', 'impegno', 'è', 'formalizzato', 'in:', 'tutti', 'i', 'dati', 'della', 'scheda', 'immobile', 'sono', 'reali', 'e', 'certificabili.', 'Innanzitutto', 'lo', 'è', 'la', 'superficie', 'commerciale', 'definita', 'in', 'accordo', 'al', 'protocollo', 'di', 'calcolo', \"dell'Osservatorio\", 'del', 'Mercato', 'Immobiliare', \"dell'Agenzia\", 'delle', 'Entrate', '(riferimento:', 'determinazione', 'consistenza);', 'la', 'documentazione', \"dell'immobile\", 'è', 'completa', 'e', 'visionabile.', 'Nello', 'specifico', 'sono', 'disponibili', 'su', 'richiesta:', 'visura', 'catastale,', 'planimetria', 'catastale,', 'certificazione', 'energetica', 'e,', 'solo', 'per', 'le', 'vendite,', 'visura', 'ipotecaria;', 'in', 'qualità', 'di', 'Operatore', 'Professionale', 'si', 'assisterà', 'il', 'cliente', 'dalle', 'verifiche', 'preliminari', \"dell'immobile\", 'sino', 'alla', 'stipula', \"dell'atto\", 'notarile', 'o', 'del', 'contratto', 'di', 'locazione,', 'in', 'modo', 'da', 'essere', 'al', 'suo', 'fianco', 'fino', 'al', 'completamento', \"dell'operazione\", 'immobiliare.']\n",
      "['×Close', 'Immobile', 'garantito', 'Home', 'Agency', 'desidera', 'prendersi', \"l'impegno\", 'di', 'mettere', 'a', 'disposizione', 'dei', 'propri', 'clienti', 'la', 'sua', 'professionalità', 'e', 'competenza', 'in', 'un', 'momento', 'così', 'importante', 'come', 'la', 'scelta', 'della', 'tua', 'nuova', 'casa.', 'Questo', 'impegno', 'è', 'formalizzato', 'in:', 'tutti', 'i', 'dati', 'della', 'scheda', 'immobile', 'sono', 'reali', 'e', 'certificabili.', 'Innanzitutto', 'lo', 'è', 'la', 'superficie', 'commerciale', 'definita', 'in', 'accordo', 'al', 'protocollo', 'di', 'calcolo', \"dell'Osservatorio\", 'del', 'Mercato', 'Immobiliare', \"dell'Agenzia\", 'delle', 'Entrate', '(riferimento:', 'determinazione', 'consistenza);', 'la', 'documentazione', \"dell'immobile\", 'è', 'completa', 'e', 'visionabile.', 'Nello', 'specifico', 'sono', 'disponibili', 'su', 'richiesta:', 'visura', 'catastale,', 'planimetria', 'catastale,', 'certificazione', 'energetica', 'e,', 'solo', 'per', 'le', 'vendite,', 'visura', 'ipotecaria;', 'in', 'qualità', 'di', 'Operatore', 'Professionale', 'si', 'assisterà', 'il', 'cliente', 'dalle', 'verifiche', 'preliminari', \"dell'immobile\", 'sino', 'alla', 'stipula', \"dell'atto\", 'notarile', 'o', 'del', 'contratto', 'di', 'locazione,', 'in', 'modo', 'da', 'essere', 'al', 'suo', 'fianco', 'fino', 'al', 'completamento', \"dell'operazione\", 'immobiliare.']\n",
      "['Home', 'Agency', 'desidera', 'prendersi', \"l'impegno\", 'di', 'mettere', 'a', 'disposizione', 'dei', 'propri', 'clienti', 'la', 'sua', 'professionalità', 'e', 'competenza', 'in', 'un', 'momento', 'così', 'importante', 'come', 'la', 'scelta', 'della', 'tua', 'nuova', 'casa.', 'Questo', 'impegno', 'è', 'formalizzato', 'in:', 'tutti', 'i', 'dati', 'della', 'scheda', 'immobile', 'sono', 'reali', 'e', 'certificabili.', 'Innanzitutto', 'lo', 'è', 'la', 'superficie', 'commerciale', 'definita', 'in', 'accordo', 'al', 'protocollo', 'di', 'calcolo', \"dell'Osservatorio\", 'del', 'Mercato', 'Immobiliare', \"dell'Agenzia\", 'delle', 'Entrate', '(riferimento:', 'determinazione', 'consistenza);', 'la', 'documentazione', \"dell'immobile\", 'è', 'completa', 'e', 'visionabile.', 'Nello', 'specifico', 'sono', 'disponibili', 'su', 'richiesta:', 'visura', 'catastale,', 'planimetria', 'catastale,', 'certificazione', 'energetica', 'e,', 'solo', 'per', 'le', 'vendite,', 'visura', 'ipotecaria;', 'in', 'qualità', 'di', 'Operatore', 'Professionale', 'si', 'assisterà', 'il', 'cliente', 'dalle', 'verifiche', 'preliminari', \"dell'immobile\", 'sino', 'alla', 'stipula', \"dell'atto\", 'notarile', 'o', 'del', 'contratto', 'di', 'locazione,', 'in', 'modo', 'da', 'essere', 'al', 'suo', 'fianco', 'fino', 'al', 'completamento', \"dell'operazione\", 'immobiliare.']\n",
      "['Home', 'Agency', 'desidera', 'prendersi', \"l'impegno\", 'di', 'mettere', 'a', 'disposizione', 'dei', 'propri', 'clienti', 'la', 'sua', 'professionalità', 'e', 'competenza', 'in', 'un', 'momento', 'così', 'importante', 'come', 'la', 'scelta', 'della', 'tua', 'nuova', 'casa.', 'Questo', 'impegno', 'è', 'formalizzato', 'in:', 'tutti', 'i', 'dati', 'della', 'scheda', 'immobile', 'sono', 'reali', 'e', 'certificabili.', 'Innanzitutto', 'lo', 'è', 'la', 'superficie', 'commerciale', 'definita', 'in', 'accordo', 'al', 'protocollo', 'di', 'calcolo', \"dell'Osservatorio\", 'del', 'Mercato', 'Immobiliare', \"dell'Agenzia\", 'delle', 'Entrate', '(riferimento:', 'determinazione', 'consistenza);', 'la', 'documentazione', \"dell'immobile\", 'è', 'completa', 'e', 'visionabile.', 'Nello', 'specifico', 'sono', 'disponibili', 'su', 'richiesta:', 'visura', 'catastale,', 'planimetria', 'catastale,', 'certificazione', 'energetica', 'e,', 'solo', 'per', 'le', 'vendite,', 'visura', 'ipotecaria;', 'in', 'qualità', 'di', 'Operatore', 'Professionale', 'si', 'assisterà', 'il', 'cliente', 'dalle', 'verifiche', 'preliminari', \"dell'immobile\", 'sino', 'alla', 'stipula', \"dell'atto\", 'notarile', 'o', 'del', 'contratto', 'di', 'locazione,', 'in', 'modo', 'da', 'essere', 'al', 'suo', 'fianco', 'fino', 'al', 'completamento', \"dell'operazione\", 'immobiliare.']\n",
      "change\n"
     ]
    },
    {
     "name": "stdout",
     "output_type": "stream",
     "text": [
      "['CENTRO', 'STORICO', '-', 'AD.ZE', 'TRIBUNALE', 'Rif:', 'B034', '-', 'In', 'palazzina', 'storica', 'di', 'fine', \"'800,\", 'mantenuta', 'ottimamente', 'nelle', 'sue', 'parti', 'comuni,', 'è', 'disponibile', 'per', \"l'acquisto\", 'al', 'primo', 'piano', 'con', 'ascensore,', 'quadrilocale', 'con', 'triplo', 'affaccio', 'principalmente', 'su', 'un', 'interno,', 'formato', 'da:', 'ingresso,', 'soggiorno,', 'sala', '/', 'studio,', 'cucinotto,', 'disimpegno,', 'due', 'camere,', 'bagno', 'e', 'cantina,', 'per', 'una', 'superficie', 'di', 'circa', '120', 'mq.', 'Libero', 'a', 'Dicembre', '2018.', 'Riscaldamento', 'autonomo,', 'impianti', 'a', 'norma,', 'APE', 'in', 'fase', 'di', 'rilascio.', 'POSSIBILITÀ', 'ANCHE', 'PARZIALE', 'AD', 'USO', 'UFFICIO.', 'RIF.:', 'B034.', 'Prezzo:', 'Euro', '420.000', 'Leggi', 'tutto']\n",
      "change\n",
      "['BOLOGNA', '-', 'CORTICELLA', 'Rif:', 'B050', '-', 'Corticella', '-', 'VIA', 'DELLE', 'FONTI', '-', 'con', 'entrata', 'indipendente', 'In', 'tranquillo', 'interno', 'Trilocale', 'di', 'circa', '50', 'mq', 'composto', 'da:', 'ingresso', 'su', 'soggiorno', 'con', 'angolo', 'cottura,', 'camera', 'matrimoniale', '+', 'altra', 'camera', 'studiolo', 'e', 'bagno.', 'Riscaldamento', 'autonomo.', 'NESSUNA', 'SPESA', 'DI', 'CONDOMINIO.', 'APE', 'in', 'fase', 'di', 'rilascio.', 'Rif.:', 'B050', 'Euro', '120.000', 'Leggi', 'tutto']\n",
      "change\n",
      "['VIA', 'SARAGOZZA', 'AD.', 'ZE', '(', 'ENTRO', 'PORTA)', 'Rif:', 'B011', '-', 'VIA', 'SARAGOZZA', 'AD.', 'ZE', '(', 'ENTRO', 'PORTA)', 'Centro', 'storico', 'in', 'tranquilla', 'laterale', 'silenziosa', 'adiacente', 'a', 'Piazza', 'Malpighi,', 'monolocale', 'ampiamente', 'finestrato', 'libero', 'subito', 'ben', 'tenuto', 'e', 'privo', 'di', 'barriere', 'architettoniche.', 'Composto', 'da', 'soggiorno', 'con', 'angolo', 'cottura,', 'bagno', 'e', 'cantina.', 'Palazzina', 'di', 'poche', 'unità', 'ristrutturata', 'sia', 'esternamente', 'che', 'internamente.', \"L'\", 'immobile', 'viene', 'venduto', 'completo', 'di', 'arredi.', 'Classe', 'energetica', 'G.', 'Rif.', 'B011', 'Euro', '75.000', 'Leggi', 'tutto']\n",
      "change\n",
      "['BOLOGNA', '-', 'FOSSOLO', '-', 'VIA', 'MALVEZZA', 'Rif:', 'M4', '-', 'C', '-', 'Bologna', '-', 'Fossolo', '-', 'Via', 'Malvezza:', 'Appena', 'fuori', 'del', 'centro', 'urbano,', \"all'interno\", 'di', 'un', 'casolare', 'ricostruito', 'con', 'tutti', 'gli', 'adeguamenti', 'tecnologici', 'attuali', 'e', 'ad', 'alta', 'efficienza', 'energetica,', 'proponiamo', 'quattro', 'nuove', 'unità', 'cielo-terra', 'con', 'ingresso', 'indipendente.', 'Le', 'unità', 'presenti', \"all'interno\", 'del', 'fabbricato', 'sono', 'composte', 'tutte', 'da', 'soggiorno', 'e', 'cucina', 'separabile', 'con', 'bagno', 'al', 'piano', 'terra', 'e', '2', 'o', '3', 'camere', 'al', 'piano', 'primo', 'con', 'relativi', 'servizi.', 'Ogni', 'unità', 'dispone', 'di', 'corte', 'esclusiva', 'di', 'circa', '200', 'metri', 'quadrati', 'e', '2', 'posti', 'auto.', 'Impianti', 'di', 'riscaldamento', 'e', 'condizionamento', 'autonomi', 'forniti', 'di', 'pannelli', 'solari,', 'predisposizione', 'di', 'sistema', 'di', 'allarme', 'interno', 'e', 'sistema', 'di', 'videocamera', 'esterna,', 'cancelli', 'di', 'sicurezza', 'al', 'piano', 'terra.', 'Esempio:', 'Unità', 'A-', 'SLV', '150', 'mq', '-', 'tre', 'camere', '-', 'Euro', '405.000.', 'CONSEGNA', 'PREVISTA', 'AGOSTO', '2019.', 'DETRAZIONI', 'FISCALI.', 'Classe', 'energetica', 'A.', 'www.malvezza4.com.', 'Disponibili', 'altri', 'tre', 'immobili', 'di', '120', 'mq,', '174', 'mq', 'e', '186', 'mq', 'Leggi', 'tutto']\n",
      "['×Close', 'Immobile', 'garantito', 'Gabetti', 'desidera', 'prendersi', \"l'impegno\", 'di', 'mettere', 'a', 'disposizione', 'dei', 'propri', 'clienti', 'la', 'sua', 'professionalità', 'e', 'competenza', 'in', 'un', 'momento', 'così', 'importante', 'come', 'la', 'scelta', 'della', 'tua', 'nuova', 'casa.', 'Questo', 'impegno', 'è', 'formalizzato', 'in:', 'tutti', 'i', 'dati', 'della', 'scheda', 'immobile', 'sono', 'reali', 'e', 'certificabili.', 'Innanzitutto', 'lo', 'è', 'la', 'superficie', 'commerciale', 'definita', 'in', 'accordo', 'al', 'protocollo', 'di', 'calcolo', \"dell'Osservatorio\", 'del', 'Mercato', 'Immobiliare', \"dell'Agenzia\", 'delle', 'Entrate', '(riferimento:', 'determinazione', 'consistenza);', 'la', 'documentazione', \"dell'immobile\", 'è', 'completa', 'e', 'visionabile.', 'Nello', 'specifico', 'sono', 'disponibili', 'su', 'richiesta:', 'visura', 'catastale,', 'planimetria', 'catastale,', 'certificazione', 'energetica', 'e,', 'solo', 'per', 'le', 'vendite,', 'visura', 'ipotecaria;', 'in', 'qualità', 'di', 'Operatore', 'Professionale', 'si', 'assisterà', 'il', 'cliente', 'dalle', 'verifiche', 'preliminari', \"dell'immobile\", 'sino', 'alla', 'stipula', \"dell'atto\", 'notarile', 'o', 'del', 'contratto', 'di', 'locazione,', 'in', 'modo', 'da', 'essere', 'al', 'suo', 'fianco', 'fino', 'al', 'completamento', \"dell'operazione\", 'immobiliare.']\n",
      "['×Close', 'Immobile', 'garantito', 'Gabetti', 'desidera', 'prendersi', \"l'impegno\", 'di', 'mettere', 'a', 'disposizione', 'dei', 'propri', 'clienti', 'la', 'sua', 'professionalità', 'e', 'competenza', 'in', 'un', 'momento', 'così', 'importante', 'come', 'la', 'scelta', 'della', 'tua', 'nuova', 'casa.', 'Questo', 'impegno', 'è', 'formalizzato', 'in:', 'tutti', 'i', 'dati', 'della', 'scheda', 'immobile', 'sono', 'reali', 'e', 'certificabili.', 'Innanzitutto', 'lo', 'è', 'la', 'superficie', 'commerciale', 'definita', 'in', 'accordo', 'al', 'protocollo', 'di', 'calcolo', \"dell'Osservatorio\", 'del', 'Mercato', 'Immobiliare', \"dell'Agenzia\", 'delle', 'Entrate', '(riferimento:', 'determinazione', 'consistenza);', 'la', 'documentazione', \"dell'immobile\", 'è', 'completa', 'e', 'visionabile.', 'Nello', 'specifico', 'sono', 'disponibili', 'su', 'richiesta:', 'visura', 'catastale,', 'planimetria', 'catastale,', 'certificazione', 'energetica', 'e,', 'solo', 'per', 'le', 'vendite,', 'visura', 'ipotecaria;', 'in', 'qualità', 'di', 'Operatore', 'Professionale', 'si', 'assisterà', 'il', 'cliente', 'dalle', 'verifiche', 'preliminari', \"dell'immobile\", 'sino', 'alla', 'stipula', \"dell'atto\", 'notarile', 'o', 'del', 'contratto', 'di', 'locazione,', 'in', 'modo', 'da', 'essere', 'al', 'suo', 'fianco', 'fino', 'al', 'completamento', \"dell'operazione\", 'immobiliare.']\n",
      "['×Close', 'Immobile', 'garantito', 'Gabetti', 'desidera', 'prendersi', \"l'impegno\", 'di', 'mettere', 'a', 'disposizione', 'dei', 'propri', 'clienti', 'la', 'sua', 'professionalità', 'e', 'competenza', 'in', 'un', 'momento', 'così', 'importante', 'come', 'la', 'scelta', 'della', 'tua', 'nuova', 'casa.', 'Questo', 'impegno', 'è', 'formalizzato', 'in:', 'tutti', 'i', 'dati', 'della', 'scheda', 'immobile', 'sono', 'reali', 'e', 'certificabili.', 'Innanzitutto', 'lo', 'è', 'la', 'superficie', 'commerciale', 'definita', 'in', 'accordo', 'al', 'protocollo', 'di', 'calcolo', \"dell'Osservatorio\", 'del', 'Mercato', 'Immobiliare', \"dell'Agenzia\", 'delle', 'Entrate', '(riferimento:', 'determinazione', 'consistenza);', 'la', 'documentazione', \"dell'immobile\", 'è', 'completa', 'e', 'visionabile.', 'Nello', 'specifico', 'sono', 'disponibili', 'su', 'richiesta:', 'visura', 'catastale,', 'planimetria', 'catastale,', 'certificazione', 'energetica', 'e,', 'solo', 'per', 'le', 'vendite,', 'visura', 'ipotecaria;', 'in', 'qualità', 'di', 'Operatore', 'Professionale', 'si', 'assisterà', 'il', 'cliente', 'dalle', 'verifiche', 'preliminari', \"dell'immobile\", 'sino', 'alla', 'stipula', \"dell'atto\", 'notarile', 'o', 'del', 'contratto', 'di', 'locazione,', 'in', 'modo', 'da', 'essere', 'al', 'suo', 'fianco', 'fino', 'al', 'completamento', \"dell'operazione\", 'immobiliare.']\n",
      "['×Close', 'Immobile', 'garantito', 'Gabetti', 'desidera', 'prendersi', \"l'impegno\", 'di', 'mettere', 'a', 'disposizione', 'dei', 'propri', 'clienti', 'la', 'sua', 'professionalità', 'e', 'competenza', 'in', 'un', 'momento', 'così', 'importante', 'come', 'la', 'scelta', 'della', 'tua', 'nuova', 'casa.', 'Questo', 'impegno', 'è', 'formalizzato', 'in:', 'tutti', 'i', 'dati', 'della', 'scheda', 'immobile', 'sono', 'reali', 'e', 'certificabili.', 'Innanzitutto', 'lo', 'è', 'la', 'superficie', 'commerciale', 'definita', 'in', 'accordo', 'al', 'protocollo', 'di', 'calcolo', \"dell'Osservatorio\", 'del', 'Mercato', 'Immobiliare', \"dell'Agenzia\", 'delle', 'Entrate', '(riferimento:', 'determinazione', 'consistenza);', 'la', 'documentazione', \"dell'immobile\", 'è', 'completa', 'e', 'visionabile.', 'Nello', 'specifico', 'sono', 'disponibili', 'su', 'richiesta:', 'visura', 'catastale,', 'planimetria', 'catastale,', 'certificazione', 'energetica', 'e,', 'solo', 'per', 'le', 'vendite,', 'visura', 'ipotecaria;', 'in', 'qualità', 'di', 'Operatore', 'Professionale', 'si', 'assisterà', 'il', 'cliente', 'dalle', 'verifiche', 'preliminari', \"dell'immobile\", 'sino', 'alla', 'stipula', \"dell'atto\", 'notarile', 'o', 'del', 'contratto', 'di', 'locazione,', 'in', 'modo', 'da', 'essere', 'al', 'suo', 'fianco', 'fino', 'al', 'completamento', \"dell'operazione\", 'immobiliare.']\n",
      "['Gabetti', 'desidera', 'prendersi', \"l'impegno\", 'di', 'mettere', 'a', 'disposizione', 'dei', 'propri', 'clienti', 'la', 'sua', 'professionalità', 'e', 'competenza', 'in', 'un', 'momento', 'così', 'importante', 'come', 'la', 'scelta', 'della', 'tua', 'nuova', 'casa.', 'Questo', 'impegno', 'è', 'formalizzato', 'in:', 'tutti', 'i', 'dati', 'della', 'scheda', 'immobile', 'sono', 'reali', 'e', 'certificabili.', 'Innanzitutto', 'lo', 'è', 'la', 'superficie', 'commerciale', 'definita', 'in', 'accordo', 'al', 'protocollo', 'di', 'calcolo', \"dell'Osservatorio\", 'del', 'Mercato', 'Immobiliare', \"dell'Agenzia\", 'delle', 'Entrate', '(riferimento:', 'determinazione', 'consistenza);', 'la', 'documentazione', \"dell'immobile\", 'è', 'completa', 'e', 'visionabile.', 'Nello', 'specifico', 'sono', 'disponibili', 'su', 'richiesta:', 'visura', 'catastale,', 'planimetria', 'catastale,', 'certificazione', 'energetica', 'e,', 'solo', 'per', 'le', 'vendite,', 'visura', 'ipotecaria;', 'in', 'qualità', 'di', 'Operatore', 'Professionale', 'si', 'assisterà', 'il', 'cliente', 'dalle', 'verifiche', 'preliminari', \"dell'immobile\", 'sino', 'alla', 'stipula', \"dell'atto\", 'notarile', 'o', 'del', 'contratto', 'di', 'locazione,', 'in', 'modo', 'da', 'essere', 'al', 'suo', 'fianco', 'fino', 'al', 'completamento', \"dell'operazione\", 'immobiliare.']\n",
      "['Gabetti', 'desidera', 'prendersi', \"l'impegno\", 'di', 'mettere', 'a', 'disposizione', 'dei', 'propri', 'clienti', 'la', 'sua', 'professionalità', 'e', 'competenza', 'in', 'un', 'momento', 'così', 'importante', 'come', 'la', 'scelta', 'della', 'tua', 'nuova', 'casa.', 'Questo', 'impegno', 'è', 'formalizzato', 'in:', 'tutti', 'i', 'dati', 'della', 'scheda', 'immobile', 'sono', 'reali', 'e', 'certificabili.', 'Innanzitutto', 'lo', 'è', 'la', 'superficie', 'commerciale', 'definita', 'in', 'accordo', 'al', 'protocollo', 'di', 'calcolo', \"dell'Osservatorio\", 'del', 'Mercato', 'Immobiliare', \"dell'Agenzia\", 'delle', 'Entrate', '(riferimento:', 'determinazione', 'consistenza);', 'la', 'documentazione', \"dell'immobile\", 'è', 'completa', 'e', 'visionabile.', 'Nello', 'specifico', 'sono', 'disponibili', 'su', 'richiesta:', 'visura', 'catastale,', 'planimetria', 'catastale,', 'certificazione', 'energetica', 'e,', 'solo', 'per', 'le', 'vendite,', 'visura', 'ipotecaria;', 'in', 'qualità', 'di', 'Operatore', 'Professionale', 'si', 'assisterà', 'il', 'cliente', 'dalle', 'verifiche', 'preliminari', \"dell'immobile\", 'sino', 'alla', 'stipula', \"dell'atto\", 'notarile', 'o', 'del', 'contratto', 'di', 'locazione,', 'in', 'modo', 'da', 'essere', 'al', 'suo', 'fianco', 'fino', 'al', 'completamento', \"dell'operazione\", 'immobiliare.']\n",
      "change\n"
     ]
    },
    {
     "name": "stdout",
     "output_type": "stream",
     "text": [
      "['CASTELLETTO', '-', '2', 'APPARTAMENTI', 'A', '83.000', 'EURO', 'Valsamoggia', '-', 'Loc.', 'Castelletto', 'AFFARE', 'ANCHE', 'PER', 'INVESTITORI', 'A', 'pochi', 'passi', 'dal', 'centro,', 'vi', 'consigliamo', \"l'acquisto\", 'di', '2', 'APPARTAMENTI', 'alla', 'interessante', 'cifra', 'di', 'euro', '83.000', 'complessiva', '-', 'PRIMO', 'APPARTAMENTO', '-', 'BILOCALE', 'al', 'piano', 'primo', 'di', 'circa', '55,00', 'mq', '+', '5', 'mq', 'di', 'terrazzo', 'con', 'vista', 'sul', 'verde,', 'composto', 'da', 'soggiorno,', 'cucinotto,', 'disimpegno,', '1', 'bagno,', '1', 'camera.', \"L'immobile\", 'è', 'termoautonomo', 'con', 'caldaia', 'nuova', '(2017)', '-', 'SECONDO', 'APPARTAMENTO', '-', 'MONOLOCALE', 'al', 'piano', 'secondo', '(ex', 'sottotetto', 'condonato', 'ad', 'abitativo)', 'di', 'circa', '33,00', 'mq', 'con', 'bagno.', \"L'immobile\", 'è', 'termoautonomo.', 'Entrambi', 'accedono', 'dal', 'vano', 'scala', 'condominiale.', 'Classe', 'energetica', '\"G\"', 'eptot', '367,60.', 'Liberi', 'subito.', 'Leggi', 'tutto']\n",
      "change\n",
      "['CORTICELLA', '-', 'SALICETO', 'ADIACENZE', 'Rif:', 'C015', '-', 'In', 'palazzina', 'anni', \"'50\", 'è', 'disponibile', 'per', \"l'acquisto\", 'al', 'piano', 'rialzato', 'grazioso', 'loft', 'con', 'taverna', 'collegata', 'da', 'scala', 'interna', ',', 'ristrutturato', 'ed', 'arredato', 'con', 'esposizione', 'interna', 'e', 'silenziosa.', 'Riscaldamento', 'e', 'raffrescamento', 'centralizzati', 'con', 'contabilizzatori', 'di', 'consumo', 'individuali,', 'basse', 'spese', 'condominiali.', 'Ottimo', 'investimento', 'per', 'affitti', 'brevi.', 'APE:', 'B.', 'Richiesta', 'Euro', '139.000', 'Leggi', 'tutto']\n",
      "change\n",
      "['BOLOGNINA', '-', 'CORTICELLA', 'Rif:', 'C012', '-', 'In', 'palazzina', 'anni', \"'50\", 'con', 'nuovo', 'ascensore', 'in', 'fase', 'di', 'installazione,', 'libero', 'subito', 'al', '4°', 'ed', 'ultimo', 'piano,', 'spazioso', 'bilocale', 'ristrutturato', 'con', 'terrazzo', 'ad', 'angolo.', 'Abbinata', 'ampia', 'soffitta', 'grezza', 'di', '60', 'mq,', 'volendo', 'collegabile.', 'Riscaldamento', 'autonomo.', 'posto', 'bici', 'condominiale.', 'Possibilità', 'di', 'acquisto', 'degli', 'arredi', 'della', 'cucina,', 'a', 'parte.', 'Ape:', 'G.', 'Rif.:', 'C012.', 'Euro', '160.000', 'Leggi', 'tutto']\n",
      "change\n",
      "['Carinissima', 'villettina', 'con', 'giardino', 'Accendere', 'il', 'camino', 'la', 'sera', 'appena', 'rientrati', 'dalle', 'piste', 'da', 'sci,', 'godere', 'del', 'fresco', 'del', 'pomeriggio', 'dopo', 'aver', 'trascorso', 'il', 'pomeriggio', 'in', 'piscina,', 'riuscire', 'a', 'sentire', 'ancora', 'le', 'risate', 'degli', 'amici', 'intenti', 'a', 'cucinare', 'nel', 'barbecue', 'in', 'giardino.', 'Comodo', 'al', 'centro', 'di', 'Vidiciatico', '(2', 'minuti', 'dal', 'centro),', 'agli', 'impianti', 'di', 'risalita', '(15', 'minuti', 'dal', 'Corno', 'alle', 'Scale', 'e', '35', 'dal', 'Cimone),', 'alle', 'terme', 'di', 'Porretta', '(15', 'minuti),', 'al', 'golf', 'club', '(9', 'buche', 'a', '30', 'minuti)', 'e', 'ai', '400', 'km', 'di', 'sentieri', 'per', 'le', 'passeggiate,', 'questa', 'villetta', 'è', 'pronta', 'ad', 'essere', 'il', 'nuovo', 'teatro', 'di', 'tanti', 'ricordi', 'in', 'famiglia', 'e', 'con', 'amici.', 'Caratteristiche', 'tecniche:', 'Piano', 'terra:', 'giardino', 'con', 'portico', 'e', 'posto', 'auto,', 'soggiorno', 'con', 'camino', 'e', 'cucina', 'a', 'vista.', 'Servizio', 'Piano', 'seminterrato:', 'taverna,', 'servizio', 'e', 'due', 'ripostigli', 'piano', 'primo:', 'due', 'camere,', 'bagno.', 'Piano', 'secondo:', 'soffitta', 'con', 'letto.', 'Riscaldamento', 'autonomo', 'a', 'gas', 'metano.', 'Leggi', 'tutto']\n",
      "change\n",
      "['VIALE', 'ALDINI', 'Rif:', 'B043', '-', 'VIALE', 'ALDINI,', 'in', 'contesto', 'signorile', 'ed', 'elegante', 'di', 'recente', 'costruzione', 'disponiamo', 'di', 'un', 'Immobile', 'posto', 'in', 'posizione', 'interna', 'e', 'riservata', 'dotato', 'di', 'servizio', 'di', 'Portineria', 'e', 'Ascensore.', \"L'unità\", 'é', 'un', 'ampio', 'appartamento', 'ottimamente', 'tenuto', 'che', 'si', 'compone', 'di', 'ingresso,', 'salone', 'di', 'circa', '40', 'mq', 'ampiamente', 'vetrato,', 'cucina', 'abitabile,', 'disimpegno', 'notte,', 'tre', 'camere', 'da', 'letto,', 'due', 'bagni,', 'di', 'cui', 'uno', 'provvisto', 'di', 'zona', 'lavanderia,', 'ampio', 'ripostiglio,', 'due', 'ampi', 'balconi', 'e', 'una', 'terrazza', 'abitabile.', 'Riscaldamento', 'a', 'pavimento', 'e', 'aria', 'condizionata.', 'Completano', 'la', 'proprietà', 'una', 'cantina', 'doppia,', 'due', 'ampi', 'posti', 'auto', 'coperti', 'comodamente', 'accessibili', 'con', 'Ascensore', 'oltre', 'a', 'diversi', 'posti', 'auto', 'scoperti', 'condominiali.', 'Ape', 'in', 'fase', 'di', 'rilascio.', 'Rif.', 'B043', 'Euro', '750.000', '+', 'DUE', 'AMPI', 'BOX', 'AUTO', 'DI', \"PROPRIETA'\", 'Leggi', 'tutto']\n",
      "change\n",
      "['SARAGOZZA', '-', 'VIA', 'XXI', 'APRILE', 'Rif:', 'C014', '-', 'In', 'un', 'interno', 'immerso', 'nel', 'verde', ',', 'silenzioso', 'e', 'tranquillo,', 'in', 'edificio', 'anni', \"'40\", 'di', 'poche', 'unità', 'immobiliari,', 'è', 'disponibile', 'per', \"l'acquisto\", 'bilocale', 'al', 'secondo', 'piano,', 'da', 'ristrutturare,', 'composto', 'da:', 'ingresso', 'su', 'soggiorno/pranzo', 'con', 'cucina', 'a', 'vista,', 'bagno', 'e', 'camera.', 'Possibilità', 'di', 'subentrare', 'al', 'progetto', 'e', 'capitolato', 'approvato', 'per', 'usufruire', 'delle', 'detrazioni', 'fiscali.', 'Riscaldamento', 'autonomo', 'e', 'basse', 'spese', 'condominiali.', 'Ape', 'in', 'fase', 'di', 'rilascio.', 'rif.', 'C014', 'Richiesta:', 'Euro', '120.000', 'Leggi', 'tutto']\n",
      "change\n",
      "['SANTO', 'STEFANO', '-', 'AD.', 'ZE', 'VIA', 'DANTE', 'Rif:', 'B028', '-', 'SANTO', 'STEFANO', '-', 'AD.', 'ZE', 'VIA', 'DANTE', 'In', 'palazzo', \"d'\", 'epoca,elegante', 'ed', 'esclusivo,', 'è', 'in', 'trasformazione', \"l'\", 'intero', 'primo', 'piano', 'in', '5', 'unità', 'immobiliari,', 'è', 'disponibile', \"all'acquisto\", 'appartamento', 'composto', 'da:', 'ingresso,', 'soggiorno,', 'cucina,', 'doppi', 'servizi,', '2', 'camere', 'e', 'cantina.', 'Ape', 'in', 'fase', 'di', 'rilascio.', 'Consegna', 'fine', '2018.', 'Rif.', 'B028', 'Euro', '495.000.', 'Leggi', 'tutto']\n",
      "change\n",
      "['Ampio', 'bilocale', \"all'ultimo\", 'piano.', 'Hai', 'sempre', 'desiderato', 'vivere', \"all'ultimo\", 'piano?', 'Vorresti', 'vivere', 'in', 'ottima', 'zona?', 'Allora', 'chiamaci', 'subito', 'che', 'abbiamo', 'quello', 'che', 'fa', 'per', 'te!', 'La', 'Tempocasa', 'di', 'Borgo', 'Panigale', 'propone', 'in', 'vendita', 'bilocale', 'posto', 'al', 'terzo', 'ed', 'ultimo', 'piano', 'di', 'una', 'piccola', 'palazzina', 'con', '2', 'cantine', 'e', '2', 'balconi.', 'Appartamento', 'con', 'ottima', 'distribuzione', 'degli', 'spazi', 'composto', 'da', 'soggiorno', '(17', 'mq),', 'cucinotto(5', 'mq),', 'disimpegno', 'notte', '(6', 'mq),', 'camera', 'matrimoniale', '(12', 'mq)', 'e', 'bagno', '(5', 'mq).', \"L'immobile\", 'è', 'completo', 'di', 'porta', 'blindata.', 'Inoltre', 'presenta', 'pavimentazione', 'in', 'marmo.', 'Il', 'riscaldamento', 'è', 'termoautonomo', 'e', 'le', 'spese', 'condominiali', 'ammontano', 'a', '66€', 'mensili.', 'La', 'palazzina', 'si', 'trova', 'a', 'ridosso', 'della', 'scuola', '(100', 'mt),', 'del', 'parco', '(600', 'mt)', 'ed', 'è', 'comodamente', 'servito', 'dai', 'mezzi', 'pubblici', '(300', 'mt).', 'Dista', '1', 'km', 'dal', 'supermercato,', 'dalle', 'poste', 'e', 'dalla', 'stazione', 'dei', 'treni.', 'Infine', 'dista', '2', 'km', 'dal', 'comune', 'e', '3', 'km', \"dall'aeroporto.\", \"PERCHE'\", 'ACQUISTARE', 'QUESTO', 'IMMOBILE?', '-', 'ottima', 'disposizione', '-', 'zona', 'servita', 'Riferimento', 'immobile:', 'B12', 'Non', 'farti', 'perdere', 'questa', 'occasione,', 'chiamaci', 'per', 'fissare', 'un', 'appuntamento!', 'LE', 'NOSTRE', 'CASE', 'SONO', 'TUTTE', 'IN', 'ESCLUSIVA,', 'LE', 'VEDI', 'SOLO', 'CON', 'NOI!', 'Ricordati', 'quando', 'ci', 'chiami', 'di', 'comunicarci', 'il', 'riferimento', \"dell'annuncio,\", 'grazie.', 'P.S.', 'Guarda', 'tutti', 'gli', 'altri', 'fantastici', 'immobili', 'della', 'nostra', 'agenzia,', 'grazie.', 'Come?', 'semplicemente', 'andando', 'sul', 'nostro', 'sito.', 'Leggi', 'tutto']\n",
      "change\n"
     ]
    }
   ],
   "source": [
    "soup = getHTMLContent('https://www.immobiliare.it/vendita-case/bologna-provincia/?pag=1')\n",
    "read_content = False\n",
    "\n",
    "for ul in soup.find_all('ul'):\n",
    "    if (ul.get('class') == [\"annunci-list\"] and not read_content):\n",
    "        for link in ul.find_all('a'):\n",
    "            linkURL = link.get('href')\n",
    "            if linkURL is not None:\n",
    "                soup = getHTMLContent(linkURL)\n",
    "                \n",
    "                for div in soup.find_all('div'):\n",
    "                    \n",
    "                    if (div.get('class')==['left-side']):\n",
    "                        for div2 in div.find_all('div'):\n",
    "                            for p in div2.find_all('p'):\n",
    "                                if p.get('class') == ['text-center']:\n",
    "                                    letters = div2.get_text().split()\n",
    "                                    del letters[-2:]\n",
    "                print('change')"
   ]
  },
  {
   "cell_type": "markdown",
   "metadata": {},
   "source": [
    "# pre-processing"
   ]
  },
  {
   "cell_type": "code",
   "execution_count": 161,
   "metadata": {},
   "outputs": [],
   "source": [
    "aaa = ds_info.fillna(0)"
   ]
  },
  {
   "cell_type": "code",
   "execution_count": 168,
   "metadata": {},
   "outputs": [],
   "source": [
    "aaa"
   ]
  },
  {
   "cell_type": "code",
   "execution_count": null,
   "metadata": {},
   "outputs": [],
   "source": [
    "infomat = np.array(infodata)"
   ]
  },
  {
   "cell_type": "code",
   "execution_count": 88,
   "metadata": {},
   "outputs": [
    {
     "data": {
      "text/plain": [
       "array([['590.000', '3', '170', '2', '3'],\n",
       "       ['12.500', '1', '9', nan, nan],\n",
       "       ['220.000', '4', '140', '2', '1'],\n",
       "       ...,\n",
       "       ['170.000', '3', '93', '1', '1'],\n",
       "       ['160.000', '3', '80', '1', '1'],\n",
       "       ['135.000', '3', '88', '2', 'A']], dtype=object)"
      ]
     },
     "execution_count": 88,
     "metadata": {},
     "output_type": "execute_result"
    }
   ],
   "source": [
    "infomat"
   ]
  },
  {
   "cell_type": "markdown",
   "metadata": {},
   "source": [
    "# Clustering "
   ]
  },
  {
   "cell_type": "raw",
   "metadata": {},
   "source": [
    "https://www.linkedin.com/pulse/finding-optimal-number-clusters-k-means-through-elbow-asanka-perera"
   ]
  },
  {
   "cell_type": "code",
   "execution_count": 286,
   "metadata": {},
   "outputs": [],
   "source": [
    "from sklearn.cluster import KMeans\n",
    "import matplotlib.pyplot as plt"
   ]
  },
  {
   "cell_type": "code",
   "execution_count": 163,
   "metadata": {},
   "outputs": [],
   "source": [
    "kmeans = KMeans(n_clusters=10, random_state=0).fit(aaa)"
   ]
  },
  {
   "cell_type": "code",
   "execution_count": 270,
   "metadata": {},
   "outputs": [],
   "source": [
    "wcss = []\n",
    "for i in range(1, 11):\n",
    "    kmeans = KMeans(n_clusters = i, init = 'k-means++')\n",
    "    kmeans.fit(aaa)\n",
    "    wcss.append(kmeans.inertia_) "
   ]
  },
  {
   "cell_type": "code",
   "execution_count": 271,
   "metadata": {
    "scrolled": true
   },
   "outputs": [
    {
     "data": {
      "text/plain": [
       "[26602334895.13597,\n",
       " 1722450854.1354463,\n",
       " 837796653.3378803,\n",
       " 500143750.8484529,\n",
       " 352383554.64905363,\n",
       " 267950430.7642337,\n",
       " 208119379.88039985,\n",
       " 166007301.55652857,\n",
       " 133902894.49253659,\n",
       " 113734467.8821529]"
      ]
     },
     "execution_count": 271,
     "metadata": {},
     "output_type": "execute_result"
    }
   ],
   "source": [
    "wcss"
   ]
  },
  {
   "cell_type": "code",
   "execution_count": 272,
   "metadata": {},
   "outputs": [
    {
     "data": {
      "text/plain": [
       "[<matplotlib.lines.Line2D at 0x115c0edd8>]"
      ]
     },
     "execution_count": 272,
     "metadata": {},
     "output_type": "execute_result"
    },
    {
     "data": {
      "image/png": "[encoded data removed]",
      "text/plain": [
       "<Figure size 432x288 with 1 Axes>"
      ]
     },
     "metadata": {},
     "output_type": "display_data"
    }
   ],
   "source": [
    "plt.plot(range(1,11), wcss)"
   ]
  },
  {
   "cell_type": "markdown",
   "metadata": {},
   "source": [
    "## only one cluster is tooooooo big"
   ]
  },
  {
   "cell_type": "code",
   "execution_count": 284,
   "metadata": {},
   "outputs": [],
   "source": [
    "distances = []\n",
    "\n",
    "# from 2 clusters \n",
    "p1=np.array([2,wcss[1]])\n",
    "p2=np.array([10,wcss[9]])\n",
    "\n",
    "for i in range(1,10):\n",
    "    p3 = np.array([i+1,wcss[i]])\n",
    "    d = abs(np.cross(p2-p1,p3-p1)/np.linalg.norm(p2-p1))\n",
    "    distances.append(d)"
   ]
  },
  {
   "cell_type": "code",
   "execution_count": 285,
   "metadata": {},
   "outputs": [
    {
     "data": {
      "text/plain": [
       "[0.0,\n",
       " 3.3993047294454635,\n",
       " 4.07842184604709,\n",
       " 3.8132198375987687,\n",
       " 3.233098068995241,\n",
       " 2.5306324331384724,\n",
       " 1.7400519613224341,\n",
       " 0.8997042522461972,\n",
       " 0.0]"
      ]
     },
     "execution_count": 285,
     "metadata": {},
     "output_type": "execute_result"
    }
   ],
   "source": [
    "distances"
   ]
  },
  {
   "cell_type": "markdown",
   "metadata": {},
   "source": [
    "## the number of clusters, 4 has the maximum number \n",
    "## So, 4 is the optimal number"
   ]
  },
  {
   "cell_type": "code",
   "execution_count": 283,
   "metadata": {
    "scrolled": true
   },
   "outputs": [
    {
     "data": {
      "text/plain": [
       "[<matplotlib.lines.Line2D at 0x11664f278>]"
      ]
     },
     "execution_count": 283,
     "metadata": {},
     "output_type": "execute_result"
    },
    {
     "data": {
      "image/png": "[encoded data removed]",
      "text/plain": [
       "<Figure size 432x288 with 1 Axes>"
      ]
     },
     "metadata": {},
     "output_type": "display_data"
    }
   ],
   "source": [
    "plt.plot(range(2,11), wcss[1:])\n",
    "plt.plot([2, 10],[wcss[1], wcss[9]] )"
   ]
  },
  {
   "cell_type": "code",
   "execution_count": 287,
   "metadata": {},
   "outputs": [],
   "source": [
    "kmeans = KMeans(n_clusters=4, random_state=0).fit(aaa)"
   ]
  },
  {
   "cell_type": "code",
   "execution_count": 288,
   "metadata": {},
   "outputs": [],
   "source": [
    "centroids = kmeans.cluster_centers_"
   ]
  },
  {
   "cell_type": "code",
   "execution_count": 289,
   "metadata": {},
   "outputs": [
    {
     "data": {
      "text/plain": [
       "array([[2.01610918e+02, 3.42694912e+00, 1.21209332e+02, 1.43775934e+00,\n",
       "        8.34789255e-01],\n",
       "       [1.58000000e+05, 3.00000000e+00, 6.50000000e+01, 2.00000000e+00,\n",
       "        0.00000000e+00],\n",
       "       [3.00000000e+04, 1.00000000e+00, 2.40000000e+01, 3.00000000e+00,\n",
       "        0.00000000e+00],\n",
       "       [8.27152645e+02, 4.74913295e+00, 3.10433876e+02, 2.48901734e+00,\n",
       "        5.87283237e-01]])"
      ]
     },
     "execution_count": 289,
     "metadata": {},
     "output_type": "execute_result"
    }
   ],
   "source": [
    "centroids"
   ]
  },
  {
   "cell_type": "code",
   "execution_count": 302,
   "metadata": {
    "scrolled": true
   },
   "outputs": [
    {
     "name": "stdout",
     "output_type": "stream",
     "text": [
      "201.61  3.43 121.21  1.44  0.83\n",
      "158000.00  3.00 65.00  2.00  0.00\n",
      "30000.00  1.00 24.00  3.00  0.00\n",
      "827.15  4.75 310.43  2.49  0.59\n"
     ]
    }
   ],
   "source": [
    "import sys\n",
    "col_names=['price','locali','superficie','bagni','piano']\n",
    "cluster_info = pd.DataFrame(centroids,columns=col_names)\n",
    "result = np.savetxt(sys.stdout, centroids, '%5.2f')"
   ]
  },
  {
   "cell_type": "code",
   "execution_count": 305,
   "metadata": {},
   "outputs": [
    {
     "data": {
      "text/html": [
       "<div>\n",
       "<style scoped>\n",
       "    .dataframe tbody tr th:only-of-type {\n",
       "        vertical-align: middle;\n",
       "    }\n",
       "\n",
       "    .dataframe tbody tr th {\n",
       "        vertical-align: top;\n",
       "    }\n",
       "\n",
       "    .dataframe thead th {\n",
       "        text-align: right;\n",
       "    }\n",
       "</style>\n",
       "<table border=\"1\" class=\"dataframe\">\n",
       "  <thead>\n",
       "    <tr style=\"text-align: right;\">\n",
       "      <th></th>\n",
       "      <th>price</th>\n",
       "      <th>locali</th>\n",
       "      <th>superficie</th>\n",
       "      <th>bagni</th>\n",
       "      <th>piano</th>\n",
       "    </tr>\n",
       "  </thead>\n",
       "  <tbody>\n",
       "    <tr>\n",
       "      <th>0</th>\n",
       "      <td>201.61</td>\n",
       "      <td>3.43</td>\n",
       "      <td>121.21</td>\n",
       "      <td>1.44</td>\n",
       "      <td>0.83</td>\n",
       "    </tr>\n",
       "    <tr>\n",
       "      <th>1</th>\n",
       "      <td>158000.00</td>\n",
       "      <td>3.00</td>\n",
       "      <td>65.00</td>\n",
       "      <td>2.00</td>\n",
       "      <td>0.00</td>\n",
       "    </tr>\n",
       "    <tr>\n",
       "      <th>2</th>\n",
       "      <td>30000.00</td>\n",
       "      <td>1.00</td>\n",
       "      <td>24.00</td>\n",
       "      <td>3.00</td>\n",
       "      <td>0.00</td>\n",
       "    </tr>\n",
       "    <tr>\n",
       "      <th>3</th>\n",
       "      <td>827.15</td>\n",
       "      <td>4.75</td>\n",
       "      <td>310.43</td>\n",
       "      <td>2.49</td>\n",
       "      <td>0.59</td>\n",
       "    </tr>\n",
       "  </tbody>\n",
       "</table>\n",
       "</div>"
      ],
      "text/plain": [
       "       price  locali  superficie  bagni  piano\n",
       "0     201.61    3.43      121.21   1.44   0.83\n",
       "1  158000.00    3.00       65.00   2.00   0.00\n",
       "2   30000.00    1.00       24.00   3.00   0.00\n",
       "3     827.15    4.75      310.43   2.49   0.59"
      ]
     },
     "execution_count": 305,
     "metadata": {},
     "output_type": "execute_result"
    }
   ],
   "source": [
    "round(cluster_info,2)"
   ]
  },
  {
   "cell_type": "markdown",
   "metadata": {},
   "source": [
    "# Comparison among cluster"
   ]
  },
  {
   "cell_type": "code",
   "execution_count": null,
   "metadata": {},
   "outputs": [],
   "source": []
  },
  {
   "cell_type": "code",
   "execution_count": null,
   "metadata": {},
   "outputs": [],
   "source": []
  }
 ],
 "metadata": {
  "kernelspec": {
   "display_name": "Python 3",
   "language": "python",
   "name": "python3"
  },
  "language_info": {
   "codemirror_mode": {
    "name": "ipython",
    "version": 3
   },
   "file_extension": ".py",
   "mimetype": "text/x-python",
   "name": "python",
   "nbconvert_exporter": "python",
   "pygments_lexer": "ipython3",
   "version": "3.6.5"
  }
 },
 "nbformat": 4,
 "nbformat_minor": 2
}
